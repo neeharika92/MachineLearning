{
 "cells": [
  {
   "cell_type": "code",
   "execution_count": null,
   "metadata": {},
   "outputs": [],
   "source": [
    "'''Problem Statemt : An offer to be rolled out to the customers with high score as they would be prominent customers to visit mall. \n",
    "No restrictions of offer on gender or age. Offer is general'''"
   ]
  },
  {
   "cell_type": "code",
   "execution_count": 24,
   "metadata": {},
   "outputs": [],
   "source": [
    "import numpy as np\n",
    "import pandas as pd\n",
    "import matplotlib.pyplot as plt\n",
    "import seaborn as sns"
   ]
  },
  {
   "cell_type": "code",
   "execution_count": 25,
   "metadata": {
    "scrolled": true
   },
   "outputs": [
    {
     "data": {
      "text/html": [
       "<div>\n",
       "<style scoped>\n",
       "    .dataframe tbody tr th:only-of-type {\n",
       "        vertical-align: middle;\n",
       "    }\n",
       "\n",
       "    .dataframe tbody tr th {\n",
       "        vertical-align: top;\n",
       "    }\n",
       "\n",
       "    .dataframe thead th {\n",
       "        text-align: right;\n",
       "    }\n",
       "</style>\n",
       "<table border=\"1\" class=\"dataframe\">\n",
       "  <thead>\n",
       "    <tr style=\"text-align: right;\">\n",
       "      <th></th>\n",
       "      <th>Gender</th>\n",
       "      <th>Age</th>\n",
       "      <th>Annual Income (k$)</th>\n",
       "      <th>Spending Score (1-100)</th>\n",
       "    </tr>\n",
       "    <tr>\n",
       "      <th>CustomerID</th>\n",
       "      <th></th>\n",
       "      <th></th>\n",
       "      <th></th>\n",
       "      <th></th>\n",
       "    </tr>\n",
       "  </thead>\n",
       "  <tbody>\n",
       "    <tr>\n",
       "      <th>1</th>\n",
       "      <td>Male</td>\n",
       "      <td>19</td>\n",
       "      <td>15</td>\n",
       "      <td>39</td>\n",
       "    </tr>\n",
       "    <tr>\n",
       "      <th>2</th>\n",
       "      <td>Male</td>\n",
       "      <td>21</td>\n",
       "      <td>15</td>\n",
       "      <td>81</td>\n",
       "    </tr>\n",
       "    <tr>\n",
       "      <th>3</th>\n",
       "      <td>Female</td>\n",
       "      <td>20</td>\n",
       "      <td>16</td>\n",
       "      <td>6</td>\n",
       "    </tr>\n",
       "    <tr>\n",
       "      <th>4</th>\n",
       "      <td>Female</td>\n",
       "      <td>23</td>\n",
       "      <td>16</td>\n",
       "      <td>77</td>\n",
       "    </tr>\n",
       "    <tr>\n",
       "      <th>5</th>\n",
       "      <td>Female</td>\n",
       "      <td>31</td>\n",
       "      <td>17</td>\n",
       "      <td>40</td>\n",
       "    </tr>\n",
       "  </tbody>\n",
       "</table>\n",
       "</div>"
      ],
      "text/plain": [
       "            Gender  Age  Annual Income (k$)  Spending Score (1-100)\n",
       "CustomerID                                                         \n",
       "1             Male   19                  15                      39\n",
       "2             Male   21                  15                      81\n",
       "3           Female   20                  16                       6\n",
       "4           Female   23                  16                      77\n",
       "5           Female   31                  17                      40"
      ]
     },
     "execution_count": 25,
     "metadata": {},
     "output_type": "execute_result"
    }
   ],
   "source": [
    "df=pd.read_csv(r\"C:\\Python Imarticus\\Basics\\K Means Clustering\\Mall_Customers.csv\",index_col=0,header=0)\n",
    "df.head()"
   ]
  },
  {
   "cell_type": "code",
   "execution_count": 26,
   "metadata": {},
   "outputs": [
    {
     "name": "stdout",
     "output_type": "stream",
     "text": [
      "(200, 4)\n",
      "\n",
      "<class 'pandas.core.frame.DataFrame'>\n",
      "Int64Index: 200 entries, 1 to 200\n",
      "Data columns (total 4 columns):\n",
      " #   Column                  Non-Null Count  Dtype \n",
      "---  ------                  --------------  ----- \n",
      " 0   Gender                  200 non-null    object\n",
      " 1   Age                     200 non-null    int64 \n",
      " 2   Annual Income (k$)      200 non-null    int64 \n",
      " 3   Spending Score (1-100)  200 non-null    int64 \n",
      "dtypes: int64(3), object(1)\n",
      "memory usage: 7.8+ KB\n",
      "None\n",
      "\n",
      "Gender                    0\n",
      "Age                       0\n",
      "Annual Income (k$)        0\n",
      "Spending Score (1-100)    0\n",
      "dtype: int64\n",
      "\n"
     ]
    },
    {
     "data": {
      "text/html": [
       "<div>\n",
       "<style scoped>\n",
       "    .dataframe tbody tr th:only-of-type {\n",
       "        vertical-align: middle;\n",
       "    }\n",
       "\n",
       "    .dataframe tbody tr th {\n",
       "        vertical-align: top;\n",
       "    }\n",
       "\n",
       "    .dataframe thead th {\n",
       "        text-align: right;\n",
       "    }\n",
       "</style>\n",
       "<table border=\"1\" class=\"dataframe\">\n",
       "  <thead>\n",
       "    <tr style=\"text-align: right;\">\n",
       "      <th></th>\n",
       "      <th>Gender</th>\n",
       "      <th>Age</th>\n",
       "      <th>Annual Income (k$)</th>\n",
       "      <th>Spending Score (1-100)</th>\n",
       "    </tr>\n",
       "  </thead>\n",
       "  <tbody>\n",
       "    <tr>\n",
       "      <th>count</th>\n",
       "      <td>200</td>\n",
       "      <td>200.000000</td>\n",
       "      <td>200.000000</td>\n",
       "      <td>200.000000</td>\n",
       "    </tr>\n",
       "    <tr>\n",
       "      <th>unique</th>\n",
       "      <td>2</td>\n",
       "      <td>NaN</td>\n",
       "      <td>NaN</td>\n",
       "      <td>NaN</td>\n",
       "    </tr>\n",
       "    <tr>\n",
       "      <th>top</th>\n",
       "      <td>Female</td>\n",
       "      <td>NaN</td>\n",
       "      <td>NaN</td>\n",
       "      <td>NaN</td>\n",
       "    </tr>\n",
       "    <tr>\n",
       "      <th>freq</th>\n",
       "      <td>112</td>\n",
       "      <td>NaN</td>\n",
       "      <td>NaN</td>\n",
       "      <td>NaN</td>\n",
       "    </tr>\n",
       "    <tr>\n",
       "      <th>mean</th>\n",
       "      <td>NaN</td>\n",
       "      <td>38.850000</td>\n",
       "      <td>60.560000</td>\n",
       "      <td>50.200000</td>\n",
       "    </tr>\n",
       "    <tr>\n",
       "      <th>std</th>\n",
       "      <td>NaN</td>\n",
       "      <td>13.969007</td>\n",
       "      <td>26.264721</td>\n",
       "      <td>25.823522</td>\n",
       "    </tr>\n",
       "    <tr>\n",
       "      <th>min</th>\n",
       "      <td>NaN</td>\n",
       "      <td>18.000000</td>\n",
       "      <td>15.000000</td>\n",
       "      <td>1.000000</td>\n",
       "    </tr>\n",
       "    <tr>\n",
       "      <th>25%</th>\n",
       "      <td>NaN</td>\n",
       "      <td>28.750000</td>\n",
       "      <td>41.500000</td>\n",
       "      <td>34.750000</td>\n",
       "    </tr>\n",
       "    <tr>\n",
       "      <th>50%</th>\n",
       "      <td>NaN</td>\n",
       "      <td>36.000000</td>\n",
       "      <td>61.500000</td>\n",
       "      <td>50.000000</td>\n",
       "    </tr>\n",
       "    <tr>\n",
       "      <th>75%</th>\n",
       "      <td>NaN</td>\n",
       "      <td>49.000000</td>\n",
       "      <td>78.000000</td>\n",
       "      <td>73.000000</td>\n",
       "    </tr>\n",
       "    <tr>\n",
       "      <th>max</th>\n",
       "      <td>NaN</td>\n",
       "      <td>70.000000</td>\n",
       "      <td>137.000000</td>\n",
       "      <td>99.000000</td>\n",
       "    </tr>\n",
       "  </tbody>\n",
       "</table>\n",
       "</div>"
      ],
      "text/plain": [
       "        Gender         Age  Annual Income (k$)  Spending Score (1-100)\n",
       "count      200  200.000000          200.000000              200.000000\n",
       "unique       2         NaN                 NaN                     NaN\n",
       "top     Female         NaN                 NaN                     NaN\n",
       "freq       112         NaN                 NaN                     NaN\n",
       "mean       NaN   38.850000           60.560000               50.200000\n",
       "std        NaN   13.969007           26.264721               25.823522\n",
       "min        NaN   18.000000           15.000000                1.000000\n",
       "25%        NaN   28.750000           41.500000               34.750000\n",
       "50%        NaN   36.000000           61.500000               50.000000\n",
       "75%        NaN   49.000000           78.000000               73.000000\n",
       "max        NaN   70.000000          137.000000               99.000000"
      ]
     },
     "execution_count": 26,
     "metadata": {},
     "output_type": "execute_result"
    }
   ],
   "source": [
    "print(df.shape)\n",
    "print()\n",
    "print(df.info())\n",
    "print()\n",
    "print(df.isnull().sum())\n",
    "print()\n",
    "df.describe(include='all')"
   ]
  },
  {
   "cell_type": "code",
   "execution_count": 27,
   "metadata": {},
   "outputs": [],
   "source": [
    "#Before generating model convert the categorical var into numeric. Here for eg: Gender\n",
    "#df.Gender=df.Gender.map({\"Female\":0,\"Male\":1})\n",
    "#df.head()"
   ]
  },
  {
   "cell_type": "code",
   "execution_count": 44,
   "metadata": {
    "scrolled": true
   },
   "outputs": [
    {
     "data": {
      "text/plain": [
       "<matplotlib.axes._subplots.AxesSubplot at 0x1f375f26848>"
      ]
     },
     "execution_count": 44,
     "metadata": {},
     "output_type": "execute_result"
    },
    {
     "data": {
      "image/png": "[encoded data removed]",
      "text/plain": [
       "<Figure size 432x288 with 1 Axes>"
      ]
     },
     "metadata": {
      "needs_background": "light"
     },
     "output_type": "display_data"
    }
   ],
   "source": [
    "#also check for outliers using boxplot and then go for model building\n",
    "df.boxplot(column=\"Annual Income (k$)\")\n",
    "#Here there is one point which is not in range,but this is not so much far from whisker so no need to take any action"
   ]
  },
  {
   "cell_type": "code",
   "execution_count": 45,
   "metadata": {},
   "outputs": [
    {
     "data": {
      "text/plain": [
       "<matplotlib.axes._subplots.AxesSubplot at 0x1f375fa2608>"
      ]
     },
     "execution_count": 45,
     "metadata": {},
     "output_type": "execute_result"
    },
    {
     "data": {
      "image/png": "[encoded data removed]",
      "text/plain": [
       "<Figure size 432x288 with 1 Axes>"
      ]
     },
     "metadata": {
      "needs_background": "light"
     },
     "output_type": "display_data"
    }
   ],
   "source": [
    "df.boxplot(column=\"Spending Score (1-100)\")"
   ]
  },
  {
   "cell_type": "code",
   "execution_count": 28,
   "metadata": {},
   "outputs": [],
   "source": [
    "'''subsetting annual income and score from dataset (creating independent vars)\n",
    "instead of iloc we use values as this creates an array rather than a dataframe.But df takes more time to build model than \n",
    "array,as array is light in weight.Also array doesnt have headers as model doesnt need headers\n",
    "\n",
    "change here to add more colums'''\n",
    "\n",
    "X=df.values[:,[2,3]]"
   ]
  },
  {
   "cell_type": "code",
   "execution_count": 29,
   "metadata": {},
   "outputs": [
    {
     "name": "stdout",
     "output_type": "stream",
     "text": [
      "[[15 39]\n",
      " [15 81]\n",
      " [16 6]\n",
      " [16 77]\n",
      " [17 40]\n",
      " [17 76]\n",
      " [18 6]\n",
      " [18 94]\n",
      " [19 3]\n",
      " [19 72]\n",
      " [19 14]\n",
      " [19 99]\n",
      " [20 15]\n",
      " [20 77]\n",
      " [20 13]\n",
      " [20 79]\n",
      " [21 35]\n",
      " [21 66]\n",
      " [23 29]\n",
      " [23 98]\n",
      " [24 35]\n",
      " [24 73]\n",
      " [25 5]\n",
      " [25 73]\n",
      " [28 14]\n",
      " [28 82]\n",
      " [28 32]\n",
      " [28 61]\n",
      " [29 31]\n",
      " [29 87]\n",
      " [30 4]\n",
      " [30 73]\n",
      " [33 4]\n",
      " [33 92]\n",
      " [33 14]\n",
      " [33 81]\n",
      " [34 17]\n",
      " [34 73]\n",
      " [37 26]\n",
      " [37 75]\n",
      " [38 35]\n",
      " [38 92]\n",
      " [39 36]\n",
      " [39 61]\n",
      " [39 28]\n",
      " [39 65]\n",
      " [40 55]\n",
      " [40 47]\n",
      " [40 42]\n",
      " [40 42]\n",
      " [42 52]\n",
      " [42 60]\n",
      " [43 54]\n",
      " [43 60]\n",
      " [43 45]\n",
      " [43 41]\n",
      " [44 50]\n",
      " [44 46]\n",
      " [46 51]\n",
      " [46 46]\n",
      " [46 56]\n",
      " [46 55]\n",
      " [47 52]\n",
      " [47 59]\n",
      " [48 51]\n",
      " [48 59]\n",
      " [48 50]\n",
      " [48 48]\n",
      " [48 59]\n",
      " [48 47]\n",
      " [49 55]\n",
      " [49 42]\n",
      " [50 49]\n",
      " [50 56]\n",
      " [54 47]\n",
      " [54 54]\n",
      " [54 53]\n",
      " [54 48]\n",
      " [54 52]\n",
      " [54 42]\n",
      " [54 51]\n",
      " [54 55]\n",
      " [54 41]\n",
      " [54 44]\n",
      " [54 57]\n",
      " [54 46]\n",
      " [57 58]\n",
      " [57 55]\n",
      " [58 60]\n",
      " [58 46]\n",
      " [59 55]\n",
      " [59 41]\n",
      " [60 49]\n",
      " [60 40]\n",
      " [60 42]\n",
      " [60 52]\n",
      " [60 47]\n",
      " [60 50]\n",
      " [61 42]\n",
      " [61 49]\n",
      " [62 41]\n",
      " [62 48]\n",
      " [62 59]\n",
      " [62 55]\n",
      " [62 56]\n",
      " [62 42]\n",
      " [63 50]\n",
      " [63 46]\n",
      " [63 43]\n",
      " [63 48]\n",
      " [63 52]\n",
      " [63 54]\n",
      " [64 42]\n",
      " [64 46]\n",
      " [65 48]\n",
      " [65 50]\n",
      " [65 43]\n",
      " [65 59]\n",
      " [67 43]\n",
      " [67 57]\n",
      " [67 56]\n",
      " [67 40]\n",
      " [69 58]\n",
      " [69 91]\n",
      " [70 29]\n",
      " [70 77]\n",
      " [71 35]\n",
      " [71 95]\n",
      " [71 11]\n",
      " [71 75]\n",
      " [71 9]\n",
      " [71 75]\n",
      " [72 34]\n",
      " [72 71]\n",
      " [73 5]\n",
      " [73 88]\n",
      " [73 7]\n",
      " [73 73]\n",
      " [74 10]\n",
      " [74 72]\n",
      " [75 5]\n",
      " [75 93]\n",
      " [76 40]\n",
      " [76 87]\n",
      " [77 12]\n",
      " [77 97]\n",
      " [77 36]\n",
      " [77 74]\n",
      " [78 22]\n",
      " [78 90]\n",
      " [78 17]\n",
      " [78 88]\n",
      " [78 20]\n",
      " [78 76]\n",
      " [78 16]\n",
      " [78 89]\n",
      " [78 1]\n",
      " [78 78]\n",
      " [78 1]\n",
      " [78 73]\n",
      " [79 35]\n",
      " [79 83]\n",
      " [81 5]\n",
      " [81 93]\n",
      " [85 26]\n",
      " [85 75]\n",
      " [86 20]\n",
      " [86 95]\n",
      " [87 27]\n",
      " [87 63]\n",
      " [87 13]\n",
      " [87 75]\n",
      " [87 10]\n",
      " [87 92]\n",
      " [88 13]\n",
      " [88 86]\n",
      " [88 15]\n",
      " [88 69]\n",
      " [93 14]\n",
      " [93 90]\n",
      " [97 32]\n",
      " [97 86]\n",
      " [98 15]\n",
      " [98 88]\n",
      " [99 39]\n",
      " [99 97]\n",
      " [101 24]\n",
      " [101 68]\n",
      " [103 17]\n",
      " [103 85]\n",
      " [103 23]\n",
      " [103 69]\n",
      " [113 8]\n",
      " [113 91]\n",
      " [120 16]\n",
      " [120 79]\n",
      " [126 28]\n",
      " [126 74]\n",
      " [137 18]\n",
      " [137 83]]\n"
     ]
    }
   ],
   "source": [
    "print(X)"
   ]
  },
  {
   "cell_type": "code",
   "execution_count": 30,
   "metadata": {
    "scrolled": true
   },
   "outputs": [
    {
     "data": {
      "image/png": "[encoded data removed]",
      "text/plain": [
       "<Figure size 432x288 with 1 Axes>"
      ]
     },
     "metadata": {
      "needs_background": "light"
     },
     "output_type": "display_data"
    }
   ],
   "source": [
    "'''Using Elbow method to find optimum number of clusters(k-value)\n",
    "   wsse:within(the cluster) sum of square error\n",
    "   n_clusters: k value\n",
    "   random_state:argument for specifying seed value (to get randomly initial centriods same every time)\n",
    "   fit(): function for training and building the model  by passing input data\n",
    "   inertia_: statistical name for wsse, by this we can get  wsse at particular k value\n",
    "'''\n",
    "\n",
    "\n",
    "from sklearn.cluster import KMeans\n",
    "\n",
    "wsse = [] #creating empty list\n",
    "for i in range(1, 11):\n",
    "    kmeans = KMeans(n_clusters = i, random_state = 10)\n",
    "    kmeans.fit(X)\n",
    "    wsse.append(kmeans.inertia_)\n",
    "plt.plot(range(1, 11), wsse)\n",
    "plt.scatter(range(1, 11), wsse) #to get scatter point\n",
    "plt.title('The Elbow Method')\n",
    "plt.xlabel('Number of clusters')\n",
    "plt.ylabel('WSSE')\n",
    "plt.show()"
   ]
  },
  {
   "cell_type": "code",
   "execution_count": 31,
   "metadata": {
    "scrolled": false
   },
   "outputs": [
    {
     "name": "stdout",
     "output_type": "stream",
     "text": [
      "[269981.28, 181363.59595959596, 106348.37306211118, 73679.78903948834, 44448.45544793371, 37271.8862365895, 30273.394312070042, 25022.485004530354, 21881.878507060967, 19669.710998301216]\n"
     ]
    }
   ],
   "source": [
    "print(wsse)"
   ]
  },
  {
   "cell_type": "code",
   "execution_count": 32,
   "metadata": {},
   "outputs": [],
   "source": [
    "'''After k=5 in the above graph wsse is decreasing gradually. Last elblow point is the optimum value of k,in the above case its 5\n",
    "   Fitting K- means to the dataset(building final model)\n",
    "   fit_predict(): for predicting Y(independent) on basis of X(depending)\n",
    "   Y_pred: conatins final cluster no.s after the number of iterations\n",
    "'''\n",
    "\n",
    "kmeans=KMeans(n_clusters=5,random_state=10)\n",
    "Y_pred=kmeans.fit_predict(X)"
   ]
  },
  {
   "cell_type": "code",
   "execution_count": 33,
   "metadata": {},
   "outputs": [
    {
     "data": {
      "text/plain": [
       "array([3, 0, 3, 0, 3, 0, 3, 0, 3, 0, 3, 0, 3, 0, 3, 0, 3, 0, 3, 0, 3, 0,\n",
       "       3, 0, 3, 0, 3, 0, 3, 0, 3, 0, 3, 0, 3, 0, 3, 0, 3, 0, 3, 0, 3, 1,\n",
       "       3, 0, 1, 1, 1, 1, 1, 1, 1, 1, 1, 1, 1, 1, 1, 1, 1, 1, 1, 1, 1, 1,\n",
       "       1, 1, 1, 1, 1, 1, 1, 1, 1, 1, 1, 1, 1, 1, 1, 1, 1, 1, 1, 1, 1, 1,\n",
       "       1, 1, 1, 1, 1, 1, 1, 1, 1, 1, 1, 1, 1, 1, 1, 1, 1, 1, 1, 1, 1, 1,\n",
       "       1, 1, 1, 1, 1, 1, 1, 1, 1, 1, 1, 1, 1, 2, 4, 2, 1, 2, 4, 2, 4, 2,\n",
       "       1, 2, 4, 2, 4, 2, 4, 2, 4, 2, 1, 2, 4, 2, 4, 2, 4, 2, 4, 2, 4, 2,\n",
       "       4, 2, 4, 2, 4, 2, 4, 2, 4, 2, 4, 2, 4, 2, 4, 2, 4, 2, 4, 2, 4, 2,\n",
       "       4, 2, 4, 2, 4, 2, 4, 2, 4, 2, 4, 2, 4, 2, 4, 2, 4, 2, 4, 2, 4, 2,\n",
       "       4, 2])"
      ]
     },
     "execution_count": 33,
     "metadata": {},
     "output_type": "execute_result"
    }
   ],
   "source": [
    "Y_pred"
   ]
  },
  {
   "cell_type": "code",
   "execution_count": 34,
   "metadata": {
    "scrolled": true
   },
   "outputs": [
    {
     "data": {
      "text/plain": [
       "5"
      ]
     },
     "execution_count": 34,
     "metadata": {},
     "output_type": "execute_result"
    }
   ],
   "source": [
    "#to check the no. of iterations till the model convergence(stop moving from one cluster to another)\n",
    "kmeans.n_iter_"
   ]
  },
  {
   "cell_type": "code",
   "execution_count": 35,
   "metadata": {
    "scrolled": true
   },
   "outputs": [
    {
     "data": {
      "text/html": [
       "<div>\n",
       "<style scoped>\n",
       "    .dataframe tbody tr th:only-of-type {\n",
       "        vertical-align: middle;\n",
       "    }\n",
       "\n",
       "    .dataframe tbody tr th {\n",
       "        vertical-align: top;\n",
       "    }\n",
       "\n",
       "    .dataframe thead th {\n",
       "        text-align: right;\n",
       "    }\n",
       "</style>\n",
       "<table border=\"1\" class=\"dataframe\">\n",
       "  <thead>\n",
       "    <tr style=\"text-align: right;\">\n",
       "      <th></th>\n",
       "      <th>Gender</th>\n",
       "      <th>Age</th>\n",
       "      <th>Annual Income (k$)</th>\n",
       "      <th>Spending Score (1-100)</th>\n",
       "      <th>clusters</th>\n",
       "    </tr>\n",
       "    <tr>\n",
       "      <th>CustomerID</th>\n",
       "      <th></th>\n",
       "      <th></th>\n",
       "      <th></th>\n",
       "      <th></th>\n",
       "      <th></th>\n",
       "    </tr>\n",
       "  </thead>\n",
       "  <tbody>\n",
       "    <tr>\n",
       "      <th>1</th>\n",
       "      <td>Male</td>\n",
       "      <td>19</td>\n",
       "      <td>15</td>\n",
       "      <td>39</td>\n",
       "      <td>3</td>\n",
       "    </tr>\n",
       "    <tr>\n",
       "      <th>2</th>\n",
       "      <td>Male</td>\n",
       "      <td>21</td>\n",
       "      <td>15</td>\n",
       "      <td>81</td>\n",
       "      <td>0</td>\n",
       "    </tr>\n",
       "    <tr>\n",
       "      <th>3</th>\n",
       "      <td>Female</td>\n",
       "      <td>20</td>\n",
       "      <td>16</td>\n",
       "      <td>6</td>\n",
       "      <td>3</td>\n",
       "    </tr>\n",
       "    <tr>\n",
       "      <th>4</th>\n",
       "      <td>Female</td>\n",
       "      <td>23</td>\n",
       "      <td>16</td>\n",
       "      <td>77</td>\n",
       "      <td>0</td>\n",
       "    </tr>\n",
       "    <tr>\n",
       "      <th>5</th>\n",
       "      <td>Female</td>\n",
       "      <td>31</td>\n",
       "      <td>17</td>\n",
       "      <td>40</td>\n",
       "      <td>3</td>\n",
       "    </tr>\n",
       "  </tbody>\n",
       "</table>\n",
       "</div>"
      ],
      "text/plain": [
       "            Gender  Age  Annual Income (k$)  Spending Score (1-100)  clusters\n",
       "CustomerID                                                                   \n",
       "1             Male   19                  15                      39         3\n",
       "2             Male   21                  15                      81         0\n",
       "3           Female   20                  16                       6         3\n",
       "4           Female   23                  16                      77         0\n",
       "5           Female   31                  17                      40         3"
      ]
     },
     "execution_count": 35,
     "metadata": {},
     "output_type": "execute_result"
    }
   ],
   "source": [
    "#concatenate the Y_pred to original df\n",
    "\n",
    "df[\"clusters\"]=Y_pred\n",
    "df.head()"
   ]
  },
  {
   "cell_type": "code",
   "execution_count": 36,
   "metadata": {
    "scrolled": true
   },
   "outputs": [
    {
     "data": {
      "image/png": "[encoded data removed]",
      "text/plain": [
       "<Figure size 407.375x360 with 1 Axes>"
      ]
     },
     "metadata": {
      "needs_background": "light"
     },
     "output_type": "display_data"
    }
   ],
   "source": [
    "#cluster_centers_ is an attribute once model is built for getting final  centriods. cluster_centers_[:, 0] for x cordinate and \n",
    "#cluster_centers_[:, 1] for y cordinate, s is size\n",
    "\n",
    "sns.lmplot( data=df, x='Annual Income (k$)', y='Spending Score (1-100)',\n",
    "           fit_reg=False, # No regression line\n",
    "           hue='clusters',palette=\"Set1\")\n",
    "\n",
    "#change index here to add correct numeric vars for centriods once we add other vars when model is built\n",
    "plt.scatter(kmeans.cluster_centers_[:, 0], kmeans.cluster_centers_[:, 1],s = 200, c = 'yellow')\n",
    "plt.show()"
   ]
  },
  {
   "cell_type": "code",
   "execution_count": 37,
   "metadata": {},
   "outputs": [
    {
     "name": "stdout",
     "output_type": "stream",
     "text": [
      "[25.72727273 55.2962963  86.53846154 26.30434783 88.2       ]\n",
      "\n",
      "[79.36363636 49.51851852 82.12820513 20.91304348 17.11428571]\n"
     ]
    }
   ],
   "source": [
    "#cluster centriods\n",
    "\n",
    "print(kmeans.cluster_centers_[:, 0])\n",
    "print()\n",
    "print(kmeans.cluster_centers_[:, 1])"
   ]
  },
  {
   "cell_type": "code",
   "execution_count": 38,
   "metadata": {},
   "outputs": [],
   "source": [
    "df[\"clusters\"]=df.clusters.map({0:\"Careless\",1:\"Standard\",2:\"Target\",3:\"Sensible\",4:\"Careful\"})\n"
   ]
  },
  {
   "cell_type": "code",
   "execution_count": 39,
   "metadata": {
    "scrolled": false
   },
   "outputs": [
    {
     "data": {
      "text/html": [
       "<div>\n",
       "<style scoped>\n",
       "    .dataframe tbody tr th:only-of-type {\n",
       "        vertical-align: middle;\n",
       "    }\n",
       "\n",
       "    .dataframe tbody tr th {\n",
       "        vertical-align: top;\n",
       "    }\n",
       "\n",
       "    .dataframe thead th {\n",
       "        text-align: right;\n",
       "    }\n",
       "</style>\n",
       "<table border=\"1\" class=\"dataframe\">\n",
       "  <thead>\n",
       "    <tr style=\"text-align: right;\">\n",
       "      <th></th>\n",
       "      <th>Gender</th>\n",
       "      <th>Age</th>\n",
       "      <th>Annual Income (k$)</th>\n",
       "      <th>Spending Score (1-100)</th>\n",
       "      <th>clusters</th>\n",
       "    </tr>\n",
       "    <tr>\n",
       "      <th>CustomerID</th>\n",
       "      <th></th>\n",
       "      <th></th>\n",
       "      <th></th>\n",
       "      <th></th>\n",
       "      <th></th>\n",
       "    </tr>\n",
       "  </thead>\n",
       "  <tbody>\n",
       "    <tr>\n",
       "      <th>1</th>\n",
       "      <td>Male</td>\n",
       "      <td>19</td>\n",
       "      <td>15</td>\n",
       "      <td>39</td>\n",
       "      <td>Sensible</td>\n",
       "    </tr>\n",
       "    <tr>\n",
       "      <th>2</th>\n",
       "      <td>Male</td>\n",
       "      <td>21</td>\n",
       "      <td>15</td>\n",
       "      <td>81</td>\n",
       "      <td>Careless</td>\n",
       "    </tr>\n",
       "    <tr>\n",
       "      <th>3</th>\n",
       "      <td>Female</td>\n",
       "      <td>20</td>\n",
       "      <td>16</td>\n",
       "      <td>6</td>\n",
       "      <td>Sensible</td>\n",
       "    </tr>\n",
       "    <tr>\n",
       "      <th>4</th>\n",
       "      <td>Female</td>\n",
       "      <td>23</td>\n",
       "      <td>16</td>\n",
       "      <td>77</td>\n",
       "      <td>Careless</td>\n",
       "    </tr>\n",
       "    <tr>\n",
       "      <th>5</th>\n",
       "      <td>Female</td>\n",
       "      <td>31</td>\n",
       "      <td>17</td>\n",
       "      <td>40</td>\n",
       "      <td>Sensible</td>\n",
       "    </tr>\n",
       "  </tbody>\n",
       "</table>\n",
       "</div>"
      ],
      "text/plain": [
       "            Gender  Age  Annual Income (k$)  Spending Score (1-100)  clusters\n",
       "CustomerID                                                                   \n",
       "1             Male   19                  15                      39  Sensible\n",
       "2             Male   21                  15                      81  Careless\n",
       "3           Female   20                  16                       6  Sensible\n",
       "4           Female   23                  16                      77  Careless\n",
       "5           Female   31                  17                      40  Sensible"
      ]
     },
     "execution_count": 39,
     "metadata": {},
     "output_type": "execute_result"
    }
   ],
   "source": [
    "df.head()"
   ]
  },
  {
   "cell_type": "code",
   "execution_count": 40,
   "metadata": {},
   "outputs": [
    {
     "data": {
      "text/plain": [
       "Standard    81\n",
       "Target      39\n",
       "Careful     35\n",
       "Sensible    23\n",
       "Careless    22\n",
       "Name: clusters, dtype: int64"
      ]
     },
     "execution_count": 40,
     "metadata": {},
     "output_type": "execute_result"
    }
   ],
   "source": [
    "#to see the no. of observations in each cluster\n",
    "df[\"clusters\"].value_counts()"
   ]
  },
  {
   "cell_type": "code",
   "execution_count": 41,
   "metadata": {},
   "outputs": [],
   "source": [
    "new_df=df[df[\"clusters\"]==\"Target\"]"
   ]
  },
  {
   "cell_type": "code",
   "execution_count": 42,
   "metadata": {},
   "outputs": [
    {
     "data": {
      "text/plain": [
       "(39, 5)"
      ]
     },
     "execution_count": 42,
     "metadata": {},
     "output_type": "execute_result"
    }
   ],
   "source": [
    "new_df.shape"
   ]
  },
  {
   "cell_type": "code",
   "execution_count": 46,
   "metadata": {},
   "outputs": [],
   "source": [
    "new_df.to_excel(r\"C:\\Python Imarticus\\Basics\\Results_Files\\TargetCustomers_KmeansClustering.xlsx\",index=True)"
   ]
  }
 ],
 "metadata": {
  "kernelspec": {
   "display_name": "Python 3",
   "language": "python",
   "name": "python3"
  },
  "language_info": {
   "codemirror_mode": {
    "name": "ipython",
    "version": 3
   },
   "file_extension": ".py",
   "mimetype": "text/x-python",
   "name": "python",
   "nbconvert_exporter": "python",
   "pygments_lexer": "ipython3",
   "version": "3.7.4"
  }
 },
 "nbformat": 4,
 "nbformat_minor": 2
}
