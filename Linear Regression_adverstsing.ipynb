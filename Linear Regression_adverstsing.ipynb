{
 "cells": [
  {
   "cell_type": "code",
   "execution_count": 51,
   "metadata": {
    "collapsed": true
   },
   "outputs": [
    {
     "data": {
      "text/plain": [
       "'Company invested some dollars for the sale of the product in different adverstising mediums. Sales is the increase in overall revenue. \\nPredict the sales depending on which differnt mediums we get good revenue'"
      ]
     },
     "execution_count": 51,
     "metadata": {},
     "output_type": "execute_result"
    }
   ],
   "source": [
    "'''Company invested some dollars for the sale of the product in different adverstising mediums. Sales is the increase in overall revenue. \n",
    "Predict the sales depending on which differnt mediums we get good revenue'''"
   ]
  },
  {
   "cell_type": "code",
   "execution_count": 52,
   "metadata": {},
   "outputs": [],
   "source": [
    "import pandas as pd\n",
    "import numpy as np\n",
    "import matplotlib.pyplot as plt\n",
    "import seaborn as sns"
   ]
  },
  {
   "cell_type": "code",
   "execution_count": 53,
   "metadata": {},
   "outputs": [
    {
     "data": {
      "text/html": [
       "<div>\n",
       "<style scoped>\n",
       "    .dataframe tbody tr th:only-of-type {\n",
       "        vertical-align: middle;\n",
       "    }\n",
       "\n",
       "    .dataframe tbody tr th {\n",
       "        vertical-align: top;\n",
       "    }\n",
       "\n",
       "    .dataframe thead th {\n",
       "        text-align: right;\n",
       "    }\n",
       "</style>\n",
       "<table border=\"1\" class=\"dataframe\">\n",
       "  <thead>\n",
       "    <tr style=\"text-align: right;\">\n",
       "      <th></th>\n",
       "      <th>TV</th>\n",
       "      <th>radio</th>\n",
       "      <th>newspaper</th>\n",
       "      <th>sales</th>\n",
       "    </tr>\n",
       "  </thead>\n",
       "  <tbody>\n",
       "    <tr>\n",
       "      <th>1</th>\n",
       "      <td>230.1</td>\n",
       "      <td>37.8</td>\n",
       "      <td>69.2</td>\n",
       "      <td>22.1</td>\n",
       "    </tr>\n",
       "    <tr>\n",
       "      <th>2</th>\n",
       "      <td>44.5</td>\n",
       "      <td>39.3</td>\n",
       "      <td>45.1</td>\n",
       "      <td>10.4</td>\n",
       "    </tr>\n",
       "    <tr>\n",
       "      <th>3</th>\n",
       "      <td>17.2</td>\n",
       "      <td>45.9</td>\n",
       "      <td>69.3</td>\n",
       "      <td>9.3</td>\n",
       "    </tr>\n",
       "    <tr>\n",
       "      <th>4</th>\n",
       "      <td>151.5</td>\n",
       "      <td>41.3</td>\n",
       "      <td>58.5</td>\n",
       "      <td>18.5</td>\n",
       "    </tr>\n",
       "    <tr>\n",
       "      <th>5</th>\n",
       "      <td>180.8</td>\n",
       "      <td>10.8</td>\n",
       "      <td>58.4</td>\n",
       "      <td>12.9</td>\n",
       "    </tr>\n",
       "  </tbody>\n",
       "</table>\n",
       "</div>"
      ],
      "text/plain": [
       "      TV  radio  newspaper  sales\n",
       "1  230.1   37.8       69.2   22.1\n",
       "2   44.5   39.3       45.1   10.4\n",
       "3   17.2   45.9       69.3    9.3\n",
       "4  151.5   41.3       58.5   18.5\n",
       "5  180.8   10.8       58.4   12.9"
      ]
     },
     "execution_count": 53,
     "metadata": {},
     "output_type": "execute_result"
    }
   ],
   "source": [
    "data=pd.read_csv(r\"C:\\Python Imarticus\\Basics\\Linear Regression\\Advertising.csv\",index_col=0,header=0)\n",
    "data.head()"
   ]
  },
  {
   "cell_type": "code",
   "execution_count": 54,
   "metadata": {
    "scrolled": true
   },
   "outputs": [
    {
     "name": "stdout",
     "output_type": "stream",
     "text": [
      "(200, 4)\n",
      "TV           float64\n",
      "radio        float64\n",
      "newspaper    float64\n",
      "sales        float64\n",
      "dtype: object\n",
      "               TV       radio   newspaper       sales\n",
      "count  200.000000  200.000000  200.000000  200.000000\n",
      "mean   147.042500   23.264000   30.554000   14.022500\n",
      "std     85.854236   14.846809   21.778621    5.217457\n",
      "min      0.700000    0.000000    0.300000    1.600000\n",
      "25%     74.375000    9.975000   12.750000   10.375000\n",
      "50%    149.750000   22.900000   25.750000   12.900000\n",
      "75%    218.825000   36.525000   45.100000   17.400000\n",
      "max    296.400000   49.600000  114.000000   27.000000\n"
     ]
    }
   ],
   "source": [
    "print(data.shape)\n",
    "print(data.dtypes)\n",
    "print(data.describe())"
   ]
  },
  {
   "cell_type": "markdown",
   "metadata": {},
   "source": [
    "### Assumption 1 :There should be no outliers in the data (check for all independent var and dependant var)"
   ]
  },
  {
   "cell_type": "code",
   "execution_count": 55,
   "metadata": {},
   "outputs": [
    {
     "data": {
      "text/plain": [
       "'\\nAssumption Handling:\\nIf there are one or two outliers then u can ignore/eliminate them(ask the client).\\nFor cluster of points(when it is near/away to upper whisker) u can drop them and go ahead if u have more no. of records.\\nor else if the range of data is cut down then u need to allow them. Think logically and then take action by asking client.\\n\\nIf there are monetary values (eg salaries of trainers/managers and ceo etc) then leave them after confirmation form client.\\n\\nOther appraoch is to treat them by capping(bringing them to upper and lower whisker) or\\nmeasure of central tendency approach(bringing them to median value). This is done by taking the outlilers \\ninto new df and treat them by any of the methods and concat with acceptable range df which leads to imputed df\\n\\nAbove elimination and treating approaches can be followed in the similar for dependent var also.'"
      ]
     },
     "execution_count": 55,
     "metadata": {},
     "output_type": "execute_result"
    },
    {
     "data": {
      "image/png": "[encoded data removed]",
      "text/plain": [
       "<Figure size 432x288 with 1 Axes>"
      ]
     },
     "metadata": {
      "needs_background": "light"
     },
     "output_type": "display_data"
    }
   ],
   "source": [
    "data.boxplot(\"newspaper\") #here there are real values so we can ignore them\n",
    "\n",
    "'''\n",
    "Assumption Handling:\n",
    "If there are one or two outliers then u can ignore/eliminate them(ask the client).\n",
    "For cluster of points(when it is near/away to upper whisker) u can drop them and go ahead if u have more no. of records.\n",
    "or else if the range of data is cut down then u need to allow them. Think logically and then take action by asking client.\n",
    "\n",
    "If there are monetary values (eg salaries of trainers/managers and ceo etc) then leave them after confirmation form client.\n",
    "\n",
    "Other appraoch is to treat them by capping(bringing them to upper and lower whisker) or\n",
    "measure of central tendency approach(bringing them to median value). This is done by taking the outlilers \n",
    "into new df and treat them by any of the methods and concat with acceptable range df which leads to imputed df\n",
    "\n",
    "Above elimination and treating approaches can be followed in the similar for dependent var also.'''"
   ]
  },
  {
   "cell_type": "markdown",
   "metadata": {},
   "source": [
    "### Assumption2: Assumption of Linearity:Every independent var should have a linear relationship with the dependent var\n"
   ]
  },
  {
   "cell_type": "code",
   "execution_count": 56,
   "metadata": {},
   "outputs": [
    {
     "data": {
      "text/plain": [
       "'Assumption Handling:\\n   For TV: strong positive relationship\\n   For radio: moderately positive relationship\\n   For newspaper: no relationship as we see scattered points. Hence we drop such var as there is no linear relationship. \\n   If we keep it we get weak model. But as there are limited indpendent vars we keep this and proceed as of now. \\n   If there are more ind vars we can drop such vars'"
      ]
     },
     "execution_count": 56,
     "metadata": {},
     "output_type": "execute_result"
    },
    {
     "data": {
      "image/png": "[encoded data removed]",
      "text/plain": [
       "<Figure size 540x180 with 3 Axes>"
      ]
     },
     "metadata": {
      "needs_background": "light"
     },
     "output_type": "display_data"
    }
   ],
   "source": [
    "sns.pairplot(data,x_vars=[\"TV\",\"radio\",\"newspaper\"] #x_vars=data[:-1]\n",
    "             ,y_vars=\"sales\",kind='reg') #here newspaper is not having relationship\n",
    "\n",
    "'''Assumption Handling:\n",
    "   For TV: strong positive relationship\n",
    "   For radio: moderately positive relationship\n",
    "   For newspaper: no relationship as we see scattered points. Hence we drop such var as there is no linear relationship. \n",
    "   If we keep it we get weak model. But as there are limited indpendent vars we keep this and proceed as of now. \n",
    "   If there are more ind vars we can drop such vars'''"
   ]
  },
  {
   "cell_type": "code",
   "execution_count": 57,
   "metadata": {},
   "outputs": [],
   "source": [
    "#Subset from df to create ind and dep vars\n",
    "X=data[['TV','radio','newspaper']]\n",
    "Y=data['sales']"
   ]
  },
  {
   "cell_type": "markdown",
   "metadata": {},
   "source": [
    "### Assumption3: Assumption of Normality: Dep var should follow an approximate normal distribution"
   ]
  },
  {
   "cell_type": "code",
   "execution_count": 58,
   "metadata": {},
   "outputs": [
    {
     "data": {
      "text/plain": [
       "'Assumption Handling:\\n   If we get right or left skewed plot, then tranform data by 2 types.\\n   Log tranformation (mostly prefered) : if we have  peaks in data then this smoothen the peaks\\n   Square Root Tranformation : if we have  peaks in data then this again gives the peaks with same sharpness by smaller values (eg: sqrt 4 is 2)'"
      ]
     },
     "execution_count": 58,
     "metadata": {},
     "output_type": "execute_result"
    },
    {
     "data": {
      "image/png": "[encoded data removed]",
      "text/plain": [
       "<Figure size 432x288 with 1 Axes>"
      ]
     },
     "metadata": {
      "needs_background": "light"
     },
     "output_type": "display_data"
    }
   ],
   "source": [
    "sns.distplot(Y,hist=True) #here we get app normal distn\n",
    "\n",
    "'''Assumption Handling:\n",
    "   If we get right or left skewed plot, then tranform data by 2 types.\n",
    "   Log tranformation (mostly prefered) : if we have  peaks in data then this smoothen the peaks\n",
    "   Square Root Tranformation : if we have  peaks in data then this again gives the peaks with same sharpness by smaller values (eg: sqrt 4 is 2)'''"
   ]
  },
  {
   "cell_type": "code",
   "execution_count": 59,
   "metadata": {
    "collapsed": true
   },
   "outputs": [
    {
     "data": {
      "text/plain": [
       "'Log tranformation\\nY_log=np.log(Y)\\nsns.distplot(Y_log,hist=True) #to check the distn again'"
      ]
     },
     "execution_count": 59,
     "metadata": {},
     "output_type": "execute_result"
    }
   ],
   "source": [
    "'''Log tranformation\n",
    "Y_log=np.log(Y)\n",
    "sns.distplot(Y_log,hist=True) #to check the distn again'''\n"
   ]
  },
  {
   "cell_type": "code",
   "execution_count": 60,
   "metadata": {
    "scrolled": true
   },
   "outputs": [
    {
     "data": {
      "text/plain": [
       "array([[<matplotlib.axes._subplots.AxesSubplot object at 0x000001D022A7D208>,\n",
       "        <matplotlib.axes._subplots.AxesSubplot object at 0x000001D022AA5EC8>],\n",
       "       [<matplotlib.axes._subplots.AxesSubplot object at 0x000001D023D603C8>,\n",
       "        <matplotlib.axes._subplots.AxesSubplot object at 0x000001D023D95D48>]],\n",
       "      dtype=object)"
      ]
     },
     "execution_count": 60,
     "metadata": {},
     "output_type": "execute_result"
    },
    {
     "data": {
      "image/png": "[encoded data removed]",
      "text/plain": [
       "<Figure size 432x288 with 4 Axes>"
      ]
     },
     "metadata": {
      "needs_background": "light"
     },
     "output_type": "display_data"
    }
   ],
   "source": [
    "'''Good practice to ensure indp vars data is not highly skewed'''\n",
    "\n",
    "X.hist(bins=20) #newspaper has right skewed data. We can do log tranformation here"
   ]
  },
  {
   "cell_type": "code",
   "execution_count": 61,
   "metadata": {},
   "outputs": [
    {
     "name": "stdout",
     "output_type": "stream",
     "text": [
      "TV          -0.069328\n",
      "radio        0.093467\n",
      "newspaper    0.887996\n",
      "dtype: float64\n",
      "newspaper    0.887996\n",
      "dtype: float64\n"
     ]
    },
    {
     "name": "stderr",
     "output_type": "stream",
     "text": [
      "C:\\Users\\Neeharika\\Anaconda3\\lib\\site-packages\\pandas\\core\\frame.py:2963: SettingWithCopyWarning: \n",
      "A value is trying to be set on a copy of a slice from a DataFrame.\n",
      "Try using .loc[row_indexer,col_indexer] = value instead\n",
      "\n",
      "See the caveats in the documentation: https://pandas.pydata.org/pandas-docs/stable/user_guide/indexing.html#returning-a-view-versus-a-copy\n",
      "  self[k1] = value[k2]\n"
     ]
    }
   ],
   "source": [
    "#Generic code for log transformation, checks for all indpendent vars skewness\n",
    "\n",
    "from scipy.stats import skew\n",
    "data_num_skew = X.apply(lambda x: skew(x.dropna())) #to drop missing values in var and find the skewness values of each var\n",
    "data_num_skewed = data_num_skew[(data_num_skew > .75) | (data_num_skew < -.75)] #to consider the highly skewed vars (>0.75 or <-0.75)\n",
    "\n",
    "print(data_num_skew)\n",
    "print(data_num_skewed)\n",
    "\n",
    "#data_num_skewed.index as the indexes here as var names.\n",
    "#log1p(log+1 tranformation) is used to handle the 0 values as log(0) is -infinity\n",
    "import numpy as np\n",
    "X[data_num_skewed.index] = np.log1p(X[data_num_skewed.index])  \n"
   ]
  },
  {
   "cell_type": "code",
   "execution_count": 62,
   "metadata": {},
   "outputs": [
    {
     "data": {
      "text/plain": [
       "array([[<matplotlib.axes._subplots.AxesSubplot object at 0x000001D023ED78C8>,\n",
       "        <matplotlib.axes._subplots.AxesSubplot object at 0x000001D023F197C8>],\n",
       "       [<matplotlib.axes._subplots.AxesSubplot object at 0x000001D023F52408>,\n",
       "        <matplotlib.axes._subplots.AxesSubplot object at 0x000001D023F86A48>]],\n",
       "      dtype=object)"
      ]
     },
     "execution_count": 62,
     "metadata": {},
     "output_type": "execute_result"
    },
    {
     "data": {
      "image/png": "[encoded data removed]",
      "text/plain": [
       "<Figure size 432x288 with 4 Axes>"
      ]
     },
     "metadata": {
      "needs_background": "light"
     },
     "output_type": "display_data"
    }
   ],
   "source": [
    "X.hist(bins=20)"
   ]
  },
  {
   "cell_type": "code",
   "execution_count": 63,
   "metadata": {
    "collapsed": true
   },
   "outputs": [
    {
     "data": {
      "text/plain": [
       "'\\nModel Nomenclature:\\n   log-log- Y,X both are tranformed\\n   log-level-Y is,X is not\\n   level-log-Y is not X is\\n   level-level- Y,X both are not tranformed'"
      ]
     },
     "execution_count": 63,
     "metadata": {},
     "output_type": "execute_result"
    }
   ],
   "source": [
    "'''\n",
    "Model Nomenclature:\n",
    "   log-log- Y,X both are tranformed\n",
    "   log-level-Y is,X is not\n",
    "   level-log-Y is not X is\n",
    "   level-level- Y,X both are not tranformed'''"
   ]
  },
  {
   "cell_type": "markdown",
   "metadata": {},
   "source": [
    "### Assumption4 : There should be no multicollinearity in the data(among independent vars)"
   ]
  },
  {
   "cell_type": "code",
   "execution_count": 64,
   "metadata": {},
   "outputs": [
    {
     "name": "stdout",
     "output_type": "stream",
     "text": [
      "                 TV     radio  newspaper\n",
      "TV         1.000000  0.054809   0.030951\n",
      "radio      0.054809  1.000000   0.251909\n",
      "newspaper  0.030951  0.251909   1.000000\n"
     ]
    },
    {
     "data": {
      "text/plain": [
       "'Assumption Handling:\\n   values >0.7 or <-0.7 we eliminate one of the var among the 2 vars. \\n   To do this decide on 2 points: \\n   1. Out of the 2 which one should eliminate logically\\n   2. Out of 2 which var has correaltion with high no. of other vars we need to drop the higher one'"
      ]
     },
     "execution_count": 64,
     "metadata": {},
     "output_type": "execute_result"
    },
    {
     "data": {
      "image/png": "[encoded data removed]",
      "text/plain": [
       "<Figure size 432x288 with 2 Axes>"
      ]
     },
     "metadata": {
      "needs_background": "light"
     },
     "output_type": "display_data"
    }
   ],
   "source": [
    "#Can be checked by 2 appraches\n",
    "#Approach1: Correaltion Matrix \n",
    "\n",
    "corr_df=X.corr(method='pearson')\n",
    "print(corr_df)\n",
    "\n",
    "#Data Visualization using heatmap: vmax and vmin to create the color scheme/range\n",
    "\n",
    "sns.heatmap(corr_df,vmax=1.0,vmin=-1.0,annot=True)\n",
    "\n",
    "'''Assumption Handling:\n",
    "   values >0.7 or <-0.7 we eliminate one of the var among the 2 vars. \n",
    "   To do this decide on 2 points: \n",
    "   1. Out of the 2 which one should eliminate logically\n",
    "   2. Out of 2 which var has correaltion with high no. of other vars we need to drop the higher one'''"
   ]
  },
  {
   "cell_type": "code",
   "execution_count": 65,
   "metadata": {},
   "outputs": [
    {
     "data": {
      "text/html": [
       "<div>\n",
       "<style scoped>\n",
       "    .dataframe tbody tr th:only-of-type {\n",
       "        vertical-align: middle;\n",
       "    }\n",
       "\n",
       "    .dataframe tbody tr th {\n",
       "        vertical-align: top;\n",
       "    }\n",
       "\n",
       "    .dataframe thead th {\n",
       "        text-align: right;\n",
       "    }\n",
       "</style>\n",
       "<table border=\"1\" class=\"dataframe\">\n",
       "  <thead>\n",
       "    <tr style=\"text-align: right;\">\n",
       "      <th></th>\n",
       "      <th>features</th>\n",
       "      <th>VIF Factor</th>\n",
       "    </tr>\n",
       "  </thead>\n",
       "  <tbody>\n",
       "    <tr>\n",
       "      <th>0</th>\n",
       "      <td>TV</td>\n",
       "      <td>3.39</td>\n",
       "    </tr>\n",
       "    <tr>\n",
       "      <th>1</th>\n",
       "      <td>radio</td>\n",
       "      <td>3.63</td>\n",
       "    </tr>\n",
       "    <tr>\n",
       "      <th>2</th>\n",
       "      <td>newspaper</td>\n",
       "      <td>5.44</td>\n",
       "    </tr>\n",
       "  </tbody>\n",
       "</table>\n",
       "</div>"
      ],
      "text/plain": [
       "    features  VIF Factor\n",
       "0         TV        3.39\n",
       "1      radio        3.63\n",
       "2  newspaper        5.44"
      ]
     },
     "execution_count": 65,
     "metadata": {},
     "output_type": "execute_result"
    }
   ],
   "source": [
    "#Appraoch2: Variation Inflation Factor \n",
    "\n",
    "'''Vif function runs multiple models among the ind vars. \n",
    "Each iteration one var is taken as dep and others as ind. Model is built and R2(for model) and VIF(for dep var)  is calculated. \n",
    "For no multicollinearity the dep var taken shouldnt be predicted based on ind vars. Hence R2 and VIF should be low.\n",
    "Such var is taken and others would be having multicollinearity. VIF <=5 is the limit and rest vars are to be excluded.\n",
    "\n",
    "When we have such multiple ind vars we see which var vif is high among them (where vif>5) we eliminate highest \n",
    "and run vif fucntion again.Then check for next one and so on. Never eliminate all the vars at once.\n",
    "\n",
    "But we need to take care and eliminate vars depending on domain knowledge though we have vif high for such important vars.'''\n",
    "\n",
    "from statsmodels.stats.outliers_influence import variance_inflation_factor as vif\n",
    "vif_df = pd.DataFrame()\n",
    "vif_df[\"features\"] = X.columns\n",
    "vif_df[\"VIF Factor\"] = [vif(X.values, i) for i in range(X.shape[1])] #list comprehension\n",
    "vif_df.round(2)\n",
    "\n"
   ]
  },
  {
   "cell_type": "code",
   "execution_count": 66,
   "metadata": {
    "collapsed": true
   },
   "outputs": [
    {
     "data": {
      "text/plain": [
       "'here newspaper can be eliminated as vif >5. this is the ideal thing we need to drop and re-run the vif and build model.\\nIf logicaaly the var is correct even though vif>5 we need to keep them, its then we can come to know that LR doesnt work. We can\\nnow switch algorithm and used DT/SVM/KNN to get better results.\\n\\nX.drop(\\'newspaper\\',axis=1,inplace=True)\\n\\nfrom statsmodels.stats.outliers_influence import variance_inflation_factor as vif\\nvif_df = pd.DataFrame()\\nvif_df[\"features\"] = X.columns\\nvif_df[\"VIF Factor\"] = [vif(X.values, i) for i in range(X.shape[1])]\\nvif_df.round(2)'"
      ]
     },
     "execution_count": 66,
     "metadata": {},
     "output_type": "execute_result"
    }
   ],
   "source": [
    "'''here newspaper can be eliminated as vif >5. this is the ideal thing we need to drop and re-run the vif and build model.\n",
    "If logicaaly the var is correct even though vif>5 we need to keep them, its then we can come to know that LR doesnt work. We can\n",
    "now switch algorithm and used DT/SVM/KNN to get better results.\n",
    "\n",
    "X.drop('newspaper',axis=1,inplace=True)\n",
    "\n",
    "from statsmodels.stats.outliers_influence import variance_inflation_factor as vif\n",
    "vif_df = pd.DataFrame()\n",
    "vif_df[\"features\"] = X.columns\n",
    "vif_df[\"VIF Factor\"] = [vif(X.values, i) for i in range(X.shape[1])]\n",
    "vif_df.round(2)'''"
   ]
  },
  {
   "cell_type": "markdown",
   "metadata": {},
   "source": [
    "### Assumption5 : There should be no auto correlation for linear regression model to work"
   ]
  },
  {
   "cell_type": "code",
   "execution_count": 67,
   "metadata": {
    "collapsed": true
   },
   "outputs": [
    {
     "data": {
      "text/plain": [
       "'Durbin-Watson Test- Results of Auto correlation (No correlation between the observations). \\n   Value will be in the raing of 0-4. \\n   If value close to 2 there is no auto correlation.\\n   If value close to 4 there is -ve auto correlation.\\n   If value close to 0 there is +ve auto correlation. \\n   We see this result when we perform the model using Stats model library.'"
      ]
     },
     "execution_count": 67,
     "metadata": {},
     "output_type": "execute_result"
    }
   ],
   "source": [
    " '''Durbin-Watson Test- Results of Auto correlation (No correlation between the observations). \n",
    "    Value will be in the raing of 0-4. \n",
    "    If value close to 2 there is no auto correlation.\n",
    "    If value close to 4 there is -ve auto correlation.\n",
    "    If value close to 0 there is +ve auto correlation. \n",
    "    We see this result when we perform the model using Stats model library.'''"
   ]
  },
  {
   "cell_type": "markdown",
   "metadata": {},
   "source": [
    "### Appraoch 1 : OLS Method"
   ]
  },
  {
   "cell_type": "markdown",
   "metadata": {},
   "source": [
    "### Using SKlearn Library- This model dont give statistical value, but we conclude the model  on metrics"
   ]
  },
  {
   "cell_type": "markdown",
   "metadata": {},
   "source": [
    "### Model Without dropping newspaper- Linear Regression"
   ]
  },
  {
   "cell_type": "code",
   "execution_count": 68,
   "metadata": {},
   "outputs": [],
   "source": [
    "#Splitting data(random sampling) into Train and test as we have single file. <1000 obs 80-20 or >1000 obs go with 70-30. Default ratio is 75-25\n",
    "\n",
    "from sklearn.model_selection import train_test_split\n",
    "X_train,X_test,Y_train,Y_test=train_test_split(X,Y,test_size=0.2,random_state=10)"
   ]
  },
  {
   "cell_type": "code",
   "execution_count": 69,
   "metadata": {},
   "outputs": [
    {
     "name": "stdout",
     "output_type": "stream",
     "text": [
      "(160, 3)\n",
      "\n",
      "(160,)\n",
      "\n",
      "(40, 3)\n",
      "\n",
      "(40,)\n"
     ]
    }
   ],
   "source": [
    "print(X_train.shape)\n",
    "print()\n",
    "print(Y_train.shape)\n",
    "print()\n",
    "print(X_test.shape)\n",
    "print()\n",
    "print(Y_test.shape)"
   ]
  },
  {
   "cell_type": "code",
   "execution_count": 70,
   "metadata": {},
   "outputs": [
    {
     "data": {
      "text/plain": [
       "LinearRegression(copy_X=True, fit_intercept=True, n_jobs=None, normalize=False)"
      ]
     },
     "execution_count": 70,
     "metadata": {},
     "output_type": "execute_result"
    }
   ],
   "source": [
    "#Model Building process\n",
    "\n",
    "from sklearn.linear_model import LinearRegression\n",
    "#create model object\n",
    "lm=LinearRegression()\n",
    "#train model object\n",
    "lm.fit(X_train,Y_train)"
   ]
  },
  {
   "cell_type": "code",
   "execution_count": 71,
   "metadata": {
    "scrolled": true
   },
   "outputs": [
    {
     "name": "stdout",
     "output_type": "stream",
     "text": [
      "3.3532913858151527\n",
      "[ 0.0437425   0.19303708 -0.04895137]\n"
     ]
    }
   ],
   "source": [
    "#print model attributes intercept(B0) and coefficients(B1,B2,B3 etc)\n",
    "print(lm.intercept_)\n",
    "print(lm.coef_)"
   ]
  },
  {
   "cell_type": "code",
   "execution_count": 72,
   "metadata": {
    "scrolled": true
   },
   "outputs": [
    {
     "name": "stdout",
     "output_type": "stream",
     "text": [
      "[('TV', 0.04374250157742165), ('radio', 0.19303707897345296), ('newspaper', -0.04895136822248785)]\n"
     ]
    },
    {
     "data": {
      "text/plain": [
       "'By investing in TV and radio Sales is increasing, but investing in newspaper Sales is decreasing. Hence a beneficial insight\\nis its wrong to invest in newspaper'"
      ]
     },
     "execution_count": 72,
     "metadata": {},
     "output_type": "execute_result"
    }
   ],
   "source": [
    "#print feature names along with coefficients\n",
    "print(list(zip(X.columns,lm.coef_)))\n",
    "\n",
    "'''By investing in TV and radio Sales is increasing, but investing in newspaper Sales is decreasing. Hence a beneficial insight\n",
    "is its wrong to invest in newspaper'''"
   ]
  },
  {
   "cell_type": "code",
   "execution_count": 73,
   "metadata": {},
   "outputs": [
    {
     "name": "stdout",
     "output_type": "stream",
     "text": [
      "27.03124938581515\n"
     ]
    }
   ],
   "source": [
    "#manual approach for predicting on test data\n",
    "X1=100\n",
    "X2=100\n",
    "X3=0  #for X3=100 we got 22.13. Hence above insight is true\n",
    "Y_pred=3.3532913858151527+(0.0437425*X1)+(0.19303708*X2)+(-0.04895137*X3)\n",
    "print(Y_pred) #increase in sales when we invest certain amount in TV,radio and newspaper"
   ]
  },
  {
   "cell_type": "code",
   "execution_count": 74,
   "metadata": {},
   "outputs": [
    {
     "name": "stdout",
     "output_type": "stream",
     "text": [
      "[18.15026866 12.96136899 18.05815332 23.66025079 20.68751041 14.26325872\n",
      " 14.92774472 21.38847375 21.14752911 12.75788534 23.99735583  7.20632737\n",
      " 12.30777109 19.22813333 19.41581583 13.44985803 19.62619644  9.24667496\n",
      " 21.1052867  20.87838433 15.52611251 10.91695579 22.82910679 15.82915597\n",
      " 17.40742204  8.17170435 11.88738387 12.69866637 21.71275044  7.94920205\n",
      " 12.49118989 20.43292079  4.71443086  4.72126238 16.7504848  15.74384945\n",
      "  6.74775596 17.73750244  9.01170001 13.60841593]\n"
     ]
    }
   ],
   "source": [
    "#predict using model on test data\n",
    "\n",
    "Y_pred=lm.predict(X_test)\n",
    "print(Y_pred)"
   ]
  },
  {
   "cell_type": "code",
   "execution_count": 75,
   "metadata": {},
   "outputs": [
    {
     "name": "stderr",
     "output_type": "stream",
     "text": [
      "C:\\Users\\Neeharika\\Anaconda3\\lib\\site-packages\\ipykernel_launcher.py:4: SettingWithCopyWarning: \n",
      "A value is trying to be set on a copy of a slice from a DataFrame.\n",
      "Try using .loc[row_indexer,col_indexer] = value instead\n",
      "\n",
      "See the caveats in the documentation: https://pandas.pydata.org/pandas-docs/stable/user_guide/indexing.html#returning-a-view-versus-a-copy\n",
      "  after removing the cwd from sys.path.\n",
      "C:\\Users\\Neeharika\\Anaconda3\\lib\\site-packages\\ipykernel_launcher.py:5: SettingWithCopyWarning: \n",
      "A value is trying to be set on a copy of a slice from a DataFrame.\n",
      "Try using .loc[row_indexer,col_indexer] = value instead\n",
      "\n",
      "See the caveats in the documentation: https://pandas.pydata.org/pandas-docs/stable/user_guide/indexing.html#returning-a-view-versus-a-copy\n",
      "  \"\"\"\n"
     ]
    },
    {
     "data": {
      "text/html": [
       "<div>\n",
       "<style scoped>\n",
       "    .dataframe tbody tr th:only-of-type {\n",
       "        vertical-align: middle;\n",
       "    }\n",
       "\n",
       "    .dataframe tbody tr th {\n",
       "        vertical-align: top;\n",
       "    }\n",
       "\n",
       "    .dataframe thead th {\n",
       "        text-align: right;\n",
       "    }\n",
       "</style>\n",
       "<table border=\"1\" class=\"dataframe\">\n",
       "  <thead>\n",
       "    <tr style=\"text-align: right;\">\n",
       "      <th></th>\n",
       "      <th>TV</th>\n",
       "      <th>radio</th>\n",
       "      <th>newspaper</th>\n",
       "      <th>Actual Sales</th>\n",
       "      <th>Predicted Sales</th>\n",
       "    </tr>\n",
       "  </thead>\n",
       "  <tbody>\n",
       "    <tr>\n",
       "      <th>60</th>\n",
       "      <td>210.7</td>\n",
       "      <td>29.5</td>\n",
       "      <td>2.332144</td>\n",
       "      <td>18.4</td>\n",
       "      <td>18.150269</td>\n",
       "    </tr>\n",
       "    <tr>\n",
       "      <th>6</th>\n",
       "      <td>8.7</td>\n",
       "      <td>48.9</td>\n",
       "      <td>4.330733</td>\n",
       "      <td>7.2</td>\n",
       "      <td>12.961369</td>\n",
       "    </tr>\n",
       "    <tr>\n",
       "      <th>21</th>\n",
       "      <td>218.4</td>\n",
       "      <td>27.7</td>\n",
       "      <td>3.996364</td>\n",
       "      <td>18.0</td>\n",
       "      <td>18.058153</td>\n",
       "    </tr>\n",
       "    <tr>\n",
       "      <th>199</th>\n",
       "      <td>283.6</td>\n",
       "      <td>42.0</td>\n",
       "      <td>4.207673</td>\n",
       "      <td>25.5</td>\n",
       "      <td>23.660251</td>\n",
       "    </tr>\n",
       "    <tr>\n",
       "      <th>53</th>\n",
       "      <td>216.4</td>\n",
       "      <td>41.7</td>\n",
       "      <td>3.703768</td>\n",
       "      <td>22.6</td>\n",
       "      <td>20.687510</td>\n",
       "    </tr>\n",
       "    <tr>\n",
       "      <th>20</th>\n",
       "      <td>147.3</td>\n",
       "      <td>23.9</td>\n",
       "      <td>3.000720</td>\n",
       "      <td>14.6</td>\n",
       "      <td>14.263259</td>\n",
       "    </tr>\n",
       "    <tr>\n",
       "      <th>163</th>\n",
       "      <td>188.4</td>\n",
       "      <td>18.1</td>\n",
       "      <td>3.280911</td>\n",
       "      <td>14.9</td>\n",
       "      <td>14.927745</td>\n",
       "    </tr>\n",
       "    <tr>\n",
       "      <th>56</th>\n",
       "      <td>198.9</td>\n",
       "      <td>49.4</td>\n",
       "      <td>4.110874</td>\n",
       "      <td>23.7</td>\n",
       "      <td>21.388474</td>\n",
       "    </tr>\n",
       "    <tr>\n",
       "      <th>70</th>\n",
       "      <td>216.8</td>\n",
       "      <td>43.9</td>\n",
       "      <td>3.339322</td>\n",
       "      <td>22.3</td>\n",
       "      <td>21.147529</td>\n",
       "    </tr>\n",
       "    <tr>\n",
       "      <th>3</th>\n",
       "      <td>17.2</td>\n",
       "      <td>45.9</td>\n",
       "      <td>4.252772</td>\n",
       "      <td>9.3</td>\n",
       "      <td>12.757885</td>\n",
       "    </tr>\n",
       "    <tr>\n",
       "      <th>99</th>\n",
       "      <td>289.7</td>\n",
       "      <td>42.3</td>\n",
       "      <td>3.955082</td>\n",
       "      <td>25.4</td>\n",
       "      <td>23.997356</td>\n",
       "    </tr>\n",
       "    <tr>\n",
       "      <th>11</th>\n",
       "      <td>66.1</td>\n",
       "      <td>5.8</td>\n",
       "      <td>3.226844</td>\n",
       "      <td>8.6</td>\n",
       "      <td>7.206327</td>\n",
       "    </tr>\n",
       "    <tr>\n",
       "      <th>76</th>\n",
       "      <td>16.9</td>\n",
       "      <td>43.7</td>\n",
       "      <td>4.504244</td>\n",
       "      <td>8.7</td>\n",
       "      <td>12.307771</td>\n",
       "    </tr>\n",
       "    <tr>\n",
       "      <th>143</th>\n",
       "      <td>220.5</td>\n",
       "      <td>33.2</td>\n",
       "      <td>3.660994</td>\n",
       "      <td>20.1</td>\n",
       "      <td>19.228133</td>\n",
       "    </tr>\n",
       "    <tr>\n",
       "      <th>125</th>\n",
       "      <td>229.5</td>\n",
       "      <td>32.3</td>\n",
       "      <td>4.320151</td>\n",
       "      <td>19.7</td>\n",
       "      <td>19.415816</td>\n",
       "    </tr>\n",
       "    <tr>\n",
       "      <th>64</th>\n",
       "      <td>102.7</td>\n",
       "      <td>29.6</td>\n",
       "      <td>2.240710</td>\n",
       "      <td>14.0</td>\n",
       "      <td>13.449858</td>\n",
       "    </tr>\n",
       "    <tr>\n",
       "      <th>110</th>\n",
       "      <td>255.4</td>\n",
       "      <td>26.9</td>\n",
       "      <td>1.871802</td>\n",
       "      <td>19.8</td>\n",
       "      <td>19.626196</td>\n",
       "    </tr>\n",
       "    <tr>\n",
       "      <th>79</th>\n",
       "      <td>5.4</td>\n",
       "      <td>29.9</td>\n",
       "      <td>2.341806</td>\n",
       "      <td>5.3</td>\n",
       "      <td>9.246675</td>\n",
       "    </tr>\n",
       "    <tr>\n",
       "      <th>112</th>\n",
       "      <td>241.7</td>\n",
       "      <td>38.0</td>\n",
       "      <td>3.186353</td>\n",
       "      <td>21.8</td>\n",
       "      <td>21.105287</td>\n",
       "    </tr>\n",
       "    <tr>\n",
       "      <th>186</th>\n",
       "      <td>205.0</td>\n",
       "      <td>45.1</td>\n",
       "      <td>3.025291</td>\n",
       "      <td>22.6</td>\n",
       "      <td>20.878384</td>\n",
       "    </tr>\n",
       "    <tr>\n",
       "      <th>155</th>\n",
       "      <td>187.8</td>\n",
       "      <td>21.1</td>\n",
       "      <td>2.351375</td>\n",
       "      <td>15.6</td>\n",
       "      <td>15.526113</td>\n",
       "    </tr>\n",
       "    <tr>\n",
       "      <th>131</th>\n",
       "      <td>0.7</td>\n",
       "      <td>39.6</td>\n",
       "      <td>2.272126</td>\n",
       "      <td>1.6</td>\n",
       "      <td>10.916956</td>\n",
       "    </tr>\n",
       "    <tr>\n",
       "      <th>62</th>\n",
       "      <td>261.3</td>\n",
       "      <td>42.7</td>\n",
       "      <td>4.019980</td>\n",
       "      <td>24.2</td>\n",
       "      <td>22.829107</td>\n",
       "    </tr>\n",
       "    <tr>\n",
       "      <th>88</th>\n",
       "      <td>110.7</td>\n",
       "      <td>40.6</td>\n",
       "      <td>4.162003</td>\n",
       "      <td>16.0</td>\n",
       "      <td>15.829156</td>\n",
       "    </tr>\n",
       "    <tr>\n",
       "      <th>103</th>\n",
       "      <td>280.2</td>\n",
       "      <td>10.1</td>\n",
       "      <td>3.109061</td>\n",
       "      <td>14.8</td>\n",
       "      <td>17.407422</td>\n",
       "    </tr>\n",
       "    <tr>\n",
       "      <th>122</th>\n",
       "      <td>18.8</td>\n",
       "      <td>21.7</td>\n",
       "      <td>3.939638</td>\n",
       "      <td>7.0</td>\n",
       "      <td>8.171704</td>\n",
       "    </tr>\n",
       "    <tr>\n",
       "      <th>137</th>\n",
       "      <td>25.6</td>\n",
       "      <td>39.0</td>\n",
       "      <td>2.332144</td>\n",
       "      <td>9.5</td>\n",
       "      <td>11.887384</td>\n",
       "    </tr>\n",
       "    <tr>\n",
       "      <th>2</th>\n",
       "      <td>44.5</td>\n",
       "      <td>39.3</td>\n",
       "      <td>3.830813</td>\n",
       "      <td>10.4</td>\n",
       "      <td>12.698666</td>\n",
       "    </tr>\n",
       "    <tr>\n",
       "      <th>48</th>\n",
       "      <td>239.9</td>\n",
       "      <td>41.5</td>\n",
       "      <td>2.970414</td>\n",
       "      <td>23.2</td>\n",
       "      <td>21.712750</td>\n",
       "    </tr>\n",
       "    <tr>\n",
       "      <th>173</th>\n",
       "      <td>19.6</td>\n",
       "      <td>20.1</td>\n",
       "      <td>2.890372</td>\n",
       "      <td>7.6</td>\n",
       "      <td>7.949202</td>\n",
       "    </tr>\n",
       "    <tr>\n",
       "      <th>160</th>\n",
       "      <td>131.7</td>\n",
       "      <td>18.4</td>\n",
       "      <td>3.572346</td>\n",
       "      <td>12.9</td>\n",
       "      <td>12.491190</td>\n",
       "    </tr>\n",
       "    <tr>\n",
       "      <th>40</th>\n",
       "      <td>228.0</td>\n",
       "      <td>37.7</td>\n",
       "      <td>3.496508</td>\n",
       "      <td>21.5</td>\n",
       "      <td>20.432921</td>\n",
       "    </tr>\n",
       "    <tr>\n",
       "      <th>77</th>\n",
       "      <td>27.5</td>\n",
       "      <td>1.6</td>\n",
       "      <td>3.077312</td>\n",
       "      <td>6.9</td>\n",
       "      <td>4.714431</td>\n",
       "    </tr>\n",
       "    <tr>\n",
       "      <th>92</th>\n",
       "      <td>28.6</td>\n",
       "      <td>1.5</td>\n",
       "      <td>3.526361</td>\n",
       "      <td>7.3</td>\n",
       "      <td>4.721262</td>\n",
       "    </tr>\n",
       "    <tr>\n",
       "      <th>36</th>\n",
       "      <td>290.7</td>\n",
       "      <td>4.1</td>\n",
       "      <td>2.251292</td>\n",
       "      <td>12.8</td>\n",
       "      <td>16.750485</td>\n",
       "    </tr>\n",
       "    <tr>\n",
       "      <th>179</th>\n",
       "      <td>276.7</td>\n",
       "      <td>2.3</td>\n",
       "      <td>3.206803</td>\n",
       "      <td>11.8</td>\n",
       "      <td>15.743849</td>\n",
       "    </tr>\n",
       "    <tr>\n",
       "      <th>128</th>\n",
       "      <td>80.2</td>\n",
       "      <td>0.0</td>\n",
       "      <td>2.322388</td>\n",
       "      <td>8.8</td>\n",
       "      <td>6.747756</td>\n",
       "    </tr>\n",
       "    <tr>\n",
       "      <th>170</th>\n",
       "      <td>284.3</td>\n",
       "      <td>10.6</td>\n",
       "      <td>2.001480</td>\n",
       "      <td>15.0</td>\n",
       "      <td>17.737502</td>\n",
       "    </tr>\n",
       "    <tr>\n",
       "      <th>47</th>\n",
       "      <td>89.7</td>\n",
       "      <td>9.9</td>\n",
       "      <td>3.602777</td>\n",
       "      <td>10.6</td>\n",
       "      <td>9.011700</td>\n",
       "    </tr>\n",
       "    <tr>\n",
       "      <th>175</th>\n",
       "      <td>222.4</td>\n",
       "      <td>3.4</td>\n",
       "      <td>2.646175</td>\n",
       "      <td>11.5</td>\n",
       "      <td>13.608416</td>\n",
       "    </tr>\n",
       "  </tbody>\n",
       "</table>\n",
       "</div>"
      ],
      "text/plain": [
       "        TV  radio  newspaper  Actual Sales  Predicted Sales\n",
       "60   210.7   29.5   2.332144          18.4        18.150269\n",
       "6      8.7   48.9   4.330733           7.2        12.961369\n",
       "21   218.4   27.7   3.996364          18.0        18.058153\n",
       "199  283.6   42.0   4.207673          25.5        23.660251\n",
       "53   216.4   41.7   3.703768          22.6        20.687510\n",
       "20   147.3   23.9   3.000720          14.6        14.263259\n",
       "163  188.4   18.1   3.280911          14.9        14.927745\n",
       "56   198.9   49.4   4.110874          23.7        21.388474\n",
       "70   216.8   43.9   3.339322          22.3        21.147529\n",
       "3     17.2   45.9   4.252772           9.3        12.757885\n",
       "99   289.7   42.3   3.955082          25.4        23.997356\n",
       "11    66.1    5.8   3.226844           8.6         7.206327\n",
       "76    16.9   43.7   4.504244           8.7        12.307771\n",
       "143  220.5   33.2   3.660994          20.1        19.228133\n",
       "125  229.5   32.3   4.320151          19.7        19.415816\n",
       "64   102.7   29.6   2.240710          14.0        13.449858\n",
       "110  255.4   26.9   1.871802          19.8        19.626196\n",
       "79     5.4   29.9   2.341806           5.3         9.246675\n",
       "112  241.7   38.0   3.186353          21.8        21.105287\n",
       "186  205.0   45.1   3.025291          22.6        20.878384\n",
       "155  187.8   21.1   2.351375          15.6        15.526113\n",
       "131    0.7   39.6   2.272126           1.6        10.916956\n",
       "62   261.3   42.7   4.019980          24.2        22.829107\n",
       "88   110.7   40.6   4.162003          16.0        15.829156\n",
       "103  280.2   10.1   3.109061          14.8        17.407422\n",
       "122   18.8   21.7   3.939638           7.0         8.171704\n",
       "137   25.6   39.0   2.332144           9.5        11.887384\n",
       "2     44.5   39.3   3.830813          10.4        12.698666\n",
       "48   239.9   41.5   2.970414          23.2        21.712750\n",
       "173   19.6   20.1   2.890372           7.6         7.949202\n",
       "160  131.7   18.4   3.572346          12.9        12.491190\n",
       "40   228.0   37.7   3.496508          21.5        20.432921\n",
       "77    27.5    1.6   3.077312           6.9         4.714431\n",
       "92    28.6    1.5   3.526361           7.3         4.721262\n",
       "36   290.7    4.1   2.251292          12.8        16.750485\n",
       "179  276.7    2.3   3.206803          11.8        15.743849\n",
       "128   80.2    0.0   2.322388           8.8         6.747756\n",
       "170  284.3   10.6   2.001480          15.0        17.737502\n",
       "47    89.7    9.9   3.602777          10.6         9.011700\n",
       "175  222.4    3.4   2.646175          11.5        13.608416"
      ]
     },
     "execution_count": 75,
     "metadata": {},
     "output_type": "execute_result"
    }
   ],
   "source": [
    "new_df=pd.DataFrame()\n",
    "new_df=X_test\n",
    "\n",
    "new_df['Actual Sales']=Y_test\n",
    "new_df['Predicted Sales']=Y_pred\n",
    "new_df"
   ]
  },
  {
   "cell_type": "markdown",
   "metadata": {},
   "source": [
    "### Model  Evaluation Metrics"
   ]
  },
  {
   "cell_type": "code",
   "execution_count": 76,
   "metadata": {},
   "outputs": [
    {
     "name": "stdout",
     "output_type": "stream",
     "text": [
      "0.834801071903532\n",
      "2.5929769110930603\n",
      "0.8322725168816474\n"
     ]
    },
    {
     "data": {
      "text/plain": [
       "'By r2 we can see linear model is better than mean model. Adjusted r2 is close to r2, so there is no such var which \\nis impacting model in bad manner'"
      ]
     },
     "execution_count": 76,
     "metadata": {},
     "output_type": "execute_result"
    }
   ],
   "source": [
    "from sklearn.metrics import r2_score,mean_squared_error\n",
    "\n",
    "r2=r2_score(Y_test,Y_pred)\n",
    "print(r2)\n",
    "\n",
    "rmse=np.sqrt(mean_squared_error(Y_test,Y_pred))\n",
    "print(rmse)\n",
    "\n",
    "adjusted_r_squared = 1 - (1-r2)*(len(Y)-1)/(len(Y)-X.shape[1]-1)\n",
    "print(adjusted_r_squared)\n",
    "\n",
    "'''By r2 we can see linear model is better than mean model. Adjusted r2 is close to r2, so there is no such var which \n",
    "is impacting model in bad manner'''"
   ]
  },
  {
   "cell_type": "code",
   "execution_count": 77,
   "metadata": {},
   "outputs": [
    {
     "name": "stdout",
     "output_type": "stream",
     "text": [
      "1.6\n",
      "25.5\n"
     ]
    },
    {
     "data": {
      "text/plain": [
       "'As rmse is close to min(Y_test) we can see not a large error. Upto 15% range is acceptable. Ideally the value should\\nbe closer to Y_min '"
      ]
     },
     "execution_count": 77,
     "metadata": {},
     "output_type": "execute_result"
    }
   ],
   "source": [
    "print(min(Y_test))\n",
    "print(max(Y_test))\n",
    "\n",
    "'''As rmse is close to min(Y_test) we can see not a large error. Upto 15% range is acceptable. Ideally the value should\n",
    "be closer to Y_min '''"
   ]
  },
  {
   "cell_type": "code",
   "execution_count": 78,
   "metadata": {
    "scrolled": true
   },
   "outputs": [
    {
     "name": "stderr",
     "output_type": "stream",
     "text": [
      "C:\\Users\\Neeharika\\Anaconda3\\lib\\site-packages\\ipykernel_launcher.py:3: SettingWithCopyWarning: \n",
      "A value is trying to be set on a copy of a slice from a DataFrame.\n",
      "Try using .loc[row_indexer,col_indexer] = value instead\n",
      "\n",
      "See the caveats in the documentation: https://pandas.pydata.org/pandas-docs/stable/user_guide/indexing.html#returning-a-view-versus-a-copy\n",
      "  This is separate from the ipykernel package so we can avoid doing imports until\n"
     ]
    },
    {
     "data": {
      "text/html": [
       "<div>\n",
       "<style scoped>\n",
       "    .dataframe tbody tr th:only-of-type {\n",
       "        vertical-align: middle;\n",
       "    }\n",
       "\n",
       "    .dataframe tbody tr th {\n",
       "        vertical-align: top;\n",
       "    }\n",
       "\n",
       "    .dataframe thead th {\n",
       "        text-align: right;\n",
       "    }\n",
       "</style>\n",
       "<table border=\"1\" class=\"dataframe\">\n",
       "  <thead>\n",
       "    <tr style=\"text-align: right;\">\n",
       "      <th></th>\n",
       "      <th>TV</th>\n",
       "      <th>radio</th>\n",
       "      <th>newspaper</th>\n",
       "      <th>Actual Sales</th>\n",
       "      <th>Predicted Sales</th>\n",
       "      <th>Deviation</th>\n",
       "    </tr>\n",
       "  </thead>\n",
       "  <tbody>\n",
       "    <tr>\n",
       "      <th>60</th>\n",
       "      <td>210.7</td>\n",
       "      <td>29.5</td>\n",
       "      <td>2.332144</td>\n",
       "      <td>18.4</td>\n",
       "      <td>18.150269</td>\n",
       "      <td>0.249731</td>\n",
       "    </tr>\n",
       "    <tr>\n",
       "      <th>6</th>\n",
       "      <td>8.7</td>\n",
       "      <td>48.9</td>\n",
       "      <td>4.330733</td>\n",
       "      <td>7.2</td>\n",
       "      <td>12.961369</td>\n",
       "      <td>-5.761369</td>\n",
       "    </tr>\n",
       "    <tr>\n",
       "      <th>21</th>\n",
       "      <td>218.4</td>\n",
       "      <td>27.7</td>\n",
       "      <td>3.996364</td>\n",
       "      <td>18.0</td>\n",
       "      <td>18.058153</td>\n",
       "      <td>-0.058153</td>\n",
       "    </tr>\n",
       "    <tr>\n",
       "      <th>199</th>\n",
       "      <td>283.6</td>\n",
       "      <td>42.0</td>\n",
       "      <td>4.207673</td>\n",
       "      <td>25.5</td>\n",
       "      <td>23.660251</td>\n",
       "      <td>1.839749</td>\n",
       "    </tr>\n",
       "    <tr>\n",
       "      <th>53</th>\n",
       "      <td>216.4</td>\n",
       "      <td>41.7</td>\n",
       "      <td>3.703768</td>\n",
       "      <td>22.6</td>\n",
       "      <td>20.687510</td>\n",
       "      <td>1.912490</td>\n",
       "    </tr>\n",
       "  </tbody>\n",
       "</table>\n",
       "</div>"
      ],
      "text/plain": [
       "        TV  radio  newspaper  Actual Sales  Predicted Sales  Deviation\n",
       "60   210.7   29.5   2.332144          18.4        18.150269   0.249731\n",
       "6      8.7   48.9   4.330733           7.2        12.961369  -5.761369\n",
       "21   218.4   27.7   3.996364          18.0        18.058153  -0.058153\n",
       "199  283.6   42.0   4.207673          25.5        23.660251   1.839749\n",
       "53   216.4   41.7   3.703768          22.6        20.687510   1.912490"
      ]
     },
     "execution_count": 78,
     "metadata": {},
     "output_type": "execute_result"
    }
   ],
   "source": [
    "#storing predicted values along with devaition (error value) to file\n",
    "\n",
    "new_df[\"Deviation\"]=new_df['Actual Sales']-new_df['Predicted Sales']\n",
    "new_df.to_excel(r\"C:\\Python Imarticus\\Basics\\Linear Regression\\Sales_Prediction.xlsx\",header=True,index=True)\n",
    "new_df.head()"
   ]
  },
  {
   "cell_type": "markdown",
   "metadata": {},
   "source": [
    "### Ridge Regression"
   ]
  },
  {
   "cell_type": "code",
   "execution_count": 79,
   "metadata": {},
   "outputs": [],
   "source": [
    "from sklearn.model_selection import train_test_split\n",
    "X_train,X_test,Y_train,Y_test=train_test_split(X,Y,test_size=0.2,random_state=10)"
   ]
  },
  {
   "cell_type": "code",
   "execution_count": 80,
   "metadata": {
    "scrolled": true
   },
   "outputs": [
    {
     "data": {
      "text/plain": [
       "Ridge(alpha=1.0, copy_X=True, fit_intercept=True, max_iter=None,\n",
       "      normalize=False, random_state=None, solver='auto', tol=0.001)"
      ]
     },
     "execution_count": 80,
     "metadata": {},
     "output_type": "execute_result"
    }
   ],
   "source": [
    "from sklearn.linear_model import Ridge\n",
    "lm=Ridge()\n",
    "lm.fit(X_train,Y_train)"
   ]
  },
  {
   "cell_type": "code",
   "execution_count": 81,
   "metadata": {
    "scrolled": true
   },
   "outputs": [
    {
     "name": "stdout",
     "output_type": "stream",
     "text": [
      "3.3522471725966003\n",
      "[ 0.04374234  0.19302603 -0.04853131]\n"
     ]
    },
    {
     "data": {
      "text/plain": [
       "'Linear Regression Coefficients: \\n3.353291385815151\\n[ 0.0437425 0.19303708 -0.04895137]'"
      ]
     },
     "execution_count": 81,
     "metadata": {},
     "output_type": "execute_result"
    }
   ],
   "source": [
    "print(lm.intercept_)\n",
    "print(lm.coef_)\n",
    "\n",
    "'''Linear Regression Coefficients: \n",
    "3.353291385815151\n",
    "[ 0.0437425 0.19303708 -0.04895137]'''"
   ]
  },
  {
   "cell_type": "code",
   "execution_count": 82,
   "metadata": {},
   "outputs": [],
   "source": [
    "Y_pred=lm.predict(X_test)"
   ]
  },
  {
   "cell_type": "code",
   "execution_count": 83,
   "metadata": {},
   "outputs": [
    {
     "name": "stdout",
     "output_type": "stream",
     "text": [
      "0.8348082644975934\n",
      "2.592920462683998\n",
      "0.832279819566434\n"
     ]
    },
    {
     "data": {
      "text/plain": [
       "'Linear Regression values:\\n0.834801071903532\\n2.59297691109306\\n0.8322725168816474'"
      ]
     },
     "execution_count": 83,
     "metadata": {},
     "output_type": "execute_result"
    }
   ],
   "source": [
    "from sklearn.metrics import r2_score,mean_squared_error\n",
    "\n",
    "\n",
    "r2=r2_score(Y_test,Y_pred)\n",
    "print(r2)\n",
    "\n",
    "rmse=np.sqrt(mean_squared_error(Y_test,Y_pred))\n",
    "print(rmse)\n",
    "\n",
    "adjusted_r_squared = 1 - (1-r2)*(len(Y)-1)/(len(Y)-X.shape[1]-1)\n",
    "print(adjusted_r_squared)\n",
    "\n",
    "'''Linear Regression values:\n",
    "0.834801071903532\n",
    "2.59297691109306\n",
    "0.8322725168816474'''"
   ]
  },
  {
   "cell_type": "markdown",
   "metadata": {},
   "source": [
    "### Lasso Regression"
   ]
  },
  {
   "cell_type": "code",
   "execution_count": 84,
   "metadata": {},
   "outputs": [],
   "source": [
    "from sklearn.model_selection import train_test_split\n",
    "X_train,X_test,Y_train,Y_test=train_test_split(X,Y,test_size=0.2,random_state=10)"
   ]
  },
  {
   "cell_type": "code",
   "execution_count": 85,
   "metadata": {},
   "outputs": [
    {
     "data": {
      "text/plain": [
       "Lasso(alpha=1.0, copy_X=True, fit_intercept=True, max_iter=1000,\n",
       "      normalize=False, positive=False, precompute=False, random_state=None,\n",
       "      selection='cyclic', tol=0.0001, warm_start=False)"
      ]
     },
     "execution_count": 85,
     "metadata": {},
     "output_type": "execute_result"
    }
   ],
   "source": [
    "from sklearn.linear_model import Lasso\n",
    "lm=Lasso()\n",
    "lm.fit(X_train,Y_train)\n"
   ]
  },
  {
   "cell_type": "code",
   "execution_count": 86,
   "metadata": {},
   "outputs": [
    {
     "name": "stdout",
     "output_type": "stream",
     "text": [
      "3.336794058220317\n",
      "[ 0.04362374  0.18766033 -0.        ]\n"
     ]
    },
    {
     "data": {
      "text/plain": [
       "'Linear Regression Coefficients: \\n3.353291385815151\\n[ 0.0437425 0.19303708 -0.04895137]\\n\\nRidge Regression Coefficients:\\n3.3522471725966003\\n[ 0.04374234  0.19302603 -0.04853131]'"
      ]
     },
     "execution_count": 86,
     "metadata": {},
     "output_type": "execute_result"
    }
   ],
   "source": [
    "print(lm.intercept_)\n",
    "print(lm.coef_)\n",
    "\n",
    "'''Linear Regression Coefficients: \n",
    "3.353291385815151\n",
    "[ 0.0437425 0.19303708 -0.04895137]\n",
    "\n",
    "Ridge Regression Coefficients:\n",
    "3.3522471725966003\n",
    "[ 0.04374234  0.19302603 -0.04853131]'''"
   ]
  },
  {
   "cell_type": "code",
   "execution_count": 87,
   "metadata": {},
   "outputs": [],
   "source": [
    "Y_pred=lm.predict(X_test)"
   ]
  },
  {
   "cell_type": "code",
   "execution_count": 88,
   "metadata": {},
   "outputs": [
    {
     "name": "stdout",
     "output_type": "stream",
     "text": [
      "0.8360506658527163\n",
      "2.5831514271094234\n",
      "0.8335412372688292\n"
     ]
    },
    {
     "data": {
      "text/plain": [
       "'Linear Regression values:\\n0.834801071903532\\n2.59297691109306\\n0.8322725168816474\\n\\nRidge Regression values:\\n0.8348082644975934\\n2.592920462683998\\n0.832279819566434 '"
      ]
     },
     "execution_count": 88,
     "metadata": {},
     "output_type": "execute_result"
    }
   ],
   "source": [
    "from sklearn.metrics import r2_score,mean_squared_error\n",
    "\n",
    "\n",
    "r2=r2_score(Y_test,Y_pred)\n",
    "print(r2)\n",
    "\n",
    "rmse=np.sqrt(mean_squared_error(Y_test,Y_pred))\n",
    "print(rmse)\n",
    "\n",
    "adjusted_r_squared = 1 - (1-r2)*(len(Y)-1)/(len(Y)-X.shape[1]-1)\n",
    "print(adjusted_r_squared)\n",
    "\n",
    "'''Linear Regression values:\n",
    "0.834801071903532\n",
    "2.59297691109306\n",
    "0.8322725168816474\n",
    "\n",
    "Ridge Regression values:\n",
    "0.8348082644975934\n",
    "2.592920462683998\n",
    "0.832279819566434 '''"
   ]
  },
  {
   "cell_type": "code",
   "execution_count": 89,
   "metadata": {
    "collapsed": true
   },
   "outputs": [
    {
     "data": {
      "text/plain": [
       "'Hence as we tried linear,lasso,ridge  where we see the metrics rmse is least and r2 and adjusted r2 is better  \\nhere we consider Lasso as better. we now create new df using these results where we include X_test,Y_test,Y_pred \\n,deviation(if necessary) and create an excel file to handover to client '"
      ]
     },
     "execution_count": 89,
     "metadata": {},
     "output_type": "execute_result"
    }
   ],
   "source": [
    "'''Hence as we tried linear,lasso,ridge  where we see the metrics rmse is least and r2 and adjusted r2 is better  \n",
    "here we consider Lasso as better. we now create new df using these results where we include X_test,Y_test,Y_pred \n",
    ",deviation(if necessary) and create an excel file to handover to client '''"
   ]
  },
  {
   "cell_type": "markdown",
   "metadata": {},
   "source": [
    "### Using Stats Model library"
   ]
  },
  {
   "cell_type": "code",
   "execution_count": 90,
   "metadata": {},
   "outputs": [
    {
     "name": "stderr",
     "output_type": "stream",
     "text": [
      "C:\\Users\\Neeharika\\Anaconda3\\lib\\site-packages\\ipykernel_launcher.py:4: SettingWithCopyWarning: \n",
      "A value is trying to be set on a copy of a slice from a DataFrame.\n",
      "Try using .loc[row_indexer,col_indexer] = value instead\n",
      "\n",
      "See the caveats in the documentation: https://pandas.pydata.org/pandas-docs/stable/user_guide/indexing.html#returning-a-view-versus-a-copy\n",
      "  after removing the cwd from sys.path.\n"
     ]
    },
    {
     "data": {
      "text/plain": [
       "(160, 4)"
      ]
     },
     "execution_count": 90,
     "metadata": {},
     "output_type": "execute_result"
    }
   ],
   "source": [
    "new_df=pd.DataFrame()\n",
    "new_df=X_train\n",
    "\n",
    "new_df[\"sales\"]=Y_train\n",
    "new_df.shape"
   ]
  },
  {
   "cell_type": "code",
   "execution_count": 91,
   "metadata": {
    "scrolled": true
   },
   "outputs": [
    {
     "name": "stdout",
     "output_type": "stream",
     "text": [
      "Intercept    3.353291\n",
      "TV           0.043743\n",
      "radio        0.193037\n",
      "newspaper   -0.048951\n",
      "dtype: float64\n",
      "                            OLS Regression Results                            \n",
      "==============================================================================\n",
      "Dep. Variable:                  sales   R-squared:                       0.921\n",
      "Model:                            OLS   Adj. R-squared:                  0.919\n",
      "Method:                 Least Squares   F-statistic:                     605.4\n",
      "Date:                Sat, 01 Aug 2020   Prob (F-statistic):           1.10e-85\n",
      "Time:                        17:17:27   Log-Likelihood:                -276.63\n",
      "No. Observations:                 160   AIC:                             561.3\n",
      "Df Residuals:                     156   BIC:                             573.6\n",
      "Df Model:                           3                                         \n",
      "Covariance Type:            nonrobust                                         \n",
      "==============================================================================\n",
      "                 coef    std err          t      P>|t|      [0.025      0.975]\n",
      "------------------------------------------------------------------------------\n",
      "Intercept      3.3533      0.442      7.578      0.000       2.479       4.227\n",
      "TV             0.0437      0.001     32.516      0.000       0.041       0.046\n",
      "radio          0.1930      0.008     24.946      0.000       0.178       0.208\n",
      "newspaper     -0.0490      0.125     -0.391      0.697      -0.297       0.199\n",
      "==============================================================================\n",
      "Omnibus:                       12.594   Durbin-Watson:                   2.106\n",
      "Prob(Omnibus):                  0.002   Jarque-Bera (JB):               13.403\n",
      "Skew:                          -0.699   Prob(JB):                      0.00123\n",
      "Kurtosis:                       3.237   Cond. No.                         697.\n",
      "==============================================================================\n",
      "\n",
      "Warnings:\n",
      "[1] Standard Errors assume that the covariance matrix of the errors is correctly specified.\n"
     ]
    },
    {
     "data": {
      "text/plain": [
       "'Result Inspection based on summary:\\n 1. Here we generated model and tested on the  same train data. So we get high R2 and adjusted R2 values\\n 2. Also, p value ( P>|t|) for newspaper is > 0.05 we can say that this var doesnt have significant relationship with sales\\n    which conclude that we fail to reject null hypothesis. So we can now eliminate this var\\n 3. Durbin-Watson Test-Here we got near to 2, hence we can conclude no auto correaltion'"
      ]
     },
     "execution_count": 91,
     "metadata": {},
     "output_type": "execute_result"
    }
   ],
   "source": [
    "import statsmodels.formula.api as sm\n",
    "\n",
    "# create a fitted model with all three features\n",
    "lm_model = sm.ols(formula='sales ~ TV + radio + newspaper', data=new_df).fit()\n",
    "\n",
    "# print the coefficients\n",
    "print(lm_model.params)\n",
    "print(lm_model.summary())\n",
    "\n",
    "'''Result Inspection based on summary:\n",
    " 1. Here we generated model and tested on the  same train data. So we get high R2 and adjusted R2 values\n",
    " 2. Also, p value ( P>|t|) for newspaper is > 0.05 we can say that this var doesnt have significant relationship with sales\n",
    "    which conclude that we fail to reject null hypothesis. So we can now eliminate this var\n",
    " 3. Durbin-Watson Test-Here we got near to 2, hence we can conclude no auto correaltion''' "
   ]
  },
  {
   "cell_type": "code",
   "execution_count": 92,
   "metadata": {},
   "outputs": [
    {
     "name": "stdout",
     "output_type": "stream",
     "text": [
      "0.8348010719035377\n",
      "2.5929769110930154\n",
      "0.832272516881653\n"
     ]
    }
   ],
   "source": [
    "Y_pred_new=lm_model.predict(X_test)\n",
    "\n",
    "from sklearn.metrics import r2_score,mean_squared_error\n",
    "import numpy as np\n",
    "\n",
    "r2=r2_score(Y_test,Y_pred_new)\n",
    "print(r2)\n",
    "\n",
    "rmse=np.sqrt(mean_squared_error(Y_test,Y_pred_new))\n",
    "print(rmse)\n",
    "\n",
    "adjusted_r_squared = 1 - (1-r2)*(len(Y)-1)/(len(Y)-X.shape[1]-1)\n",
    "print(adjusted_r_squared)"
   ]
  },
  {
   "cell_type": "markdown",
   "metadata": {},
   "source": [
    "### Eliminate Newspaper"
   ]
  },
  {
   "cell_type": "code",
   "execution_count": 93,
   "metadata": {
    "scrolled": true
   },
   "outputs": [
    {
     "name": "stdout",
     "output_type": "stream",
     "text": [
      "Intercept    3.217026\n",
      "TV           0.043721\n",
      "radio        0.192425\n",
      "dtype: float64\n",
      "                            OLS Regression Results                            \n",
      "==============================================================================\n",
      "Dep. Variable:                  sales   R-squared:                       0.921\n",
      "Model:                            OLS   Adj. R-squared:                  0.920\n",
      "Method:                 Least Squares   F-statistic:                     912.9\n",
      "Date:                Sat, 01 Aug 2020   Prob (F-statistic):           3.47e-87\n",
      "Time:                        17:17:28   Log-Likelihood:                -276.70\n",
      "No. Observations:                 160   AIC:                             559.4\n",
      "Df Residuals:                     157   BIC:                             568.6\n",
      "Df Model:                           2                                         \n",
      "Covariance Type:            nonrobust                                         \n",
      "==============================================================================\n",
      "                 coef    std err          t      P>|t|      [0.025      0.975]\n",
      "------------------------------------------------------------------------------\n",
      "Intercept      3.2170      0.271     11.855      0.000       2.681       3.753\n",
      "TV             0.0437      0.001     32.616      0.000       0.041       0.046\n",
      "radio          0.1924      0.008     25.462      0.000       0.177       0.207\n",
      "==============================================================================\n",
      "Omnibus:                       12.555   Durbin-Watson:                   2.100\n",
      "Prob(Omnibus):                  0.002   Jarque-Bera (JB):               13.347\n",
      "Skew:                          -0.697   Prob(JB):                      0.00126\n",
      "Kurtosis:                       3.241   Cond. No.                         418.\n",
      "==============================================================================\n",
      "\n",
      "Warnings:\n",
      "[1] Standard Errors assume that the covariance matrix of the errors is correctly specified.\n"
     ]
    },
    {
     "data": {
      "text/plain": [
       "'Result Inspection based on summary:\\n   1. Here Adjusted R2 is more than previous.\\n   2. AIC and BIC have lowered here than previous\\n   3. Durbin Watson value is more close to 2 than previous'"
      ]
     },
     "execution_count": 93,
     "metadata": {},
     "output_type": "execute_result"
    }
   ],
   "source": [
    "import statsmodels.formula.api as sm\n",
    "\n",
    "# create a fitted model with all three features\n",
    "lm_model = sm.ols(formula='sales ~ TV + radio', data=new_df).fit()\n",
    "\n",
    "# print the coefficients\n",
    "print(lm_model.params)\n",
    "print(lm_model.summary())\n",
    "\n",
    "'''Result Inspection based on summary:\n",
    "   1. Here Adjusted R2 is more than previous.\n",
    "   2. AIC and BIC have lowered here than previous\n",
    "   3. Durbin Watson value is more close to 2 than previous'''"
   ]
  },
  {
   "cell_type": "code",
   "execution_count": 94,
   "metadata": {},
   "outputs": [
    {
     "name": "stdout",
     "output_type": "stream",
     "text": [
      "0.8354496662944217\n",
      "2.5878817077378105\n",
      "0.8329310387377037\n"
     ]
    },
    {
     "data": {
      "text/plain": [
       "'Here all the metrics have improved compared to previous one'"
      ]
     },
     "execution_count": 94,
     "metadata": {},
     "output_type": "execute_result"
    }
   ],
   "source": [
    "Y_pred_new=lm_model.predict(X_test)\n",
    "\n",
    "from sklearn.metrics import r2_score,mean_squared_error\n",
    "import numpy as np\n",
    "\n",
    "r2=r2_score(Y_test,Y_pred_new)\n",
    "print(r2)\n",
    "\n",
    "rmse=np.sqrt(mean_squared_error(Y_test,Y_pred_new))\n",
    "print(rmse)\n",
    "\n",
    "adjusted_r_squared = 1 - (1-r2)*(len(Y)-1)/(len(Y)-X.shape[1]-1)\n",
    "print(adjusted_r_squared)\n",
    "\n",
    "'''Here all the metrics have improved compared to previous one'''"
   ]
  },
  {
   "cell_type": "markdown",
   "metadata": {},
   "source": [
    "### Handling post model building assumptions- Checking using diagnostic plots"
   ]
  },
  {
   "cell_type": "markdown",
   "metadata": {},
   "source": [
    "### Assumption1: Errors should be random"
   ]
  },
  {
   "cell_type": "code",
   "execution_count": 95,
   "metadata": {},
   "outputs": [
    {
     "data": {
      "text/plain": [
       "Text(0, 0.5, 'Residuals')"
      ]
     },
     "execution_count": 95,
     "metadata": {},
     "output_type": "execute_result"
    },
    {
     "data": {
      "image/png": "[encoded data removed]",
      "text/plain": [
       "<Figure size 864x576 with 1 Axes>"
      ]
     },
     "metadata": {
      "needs_background": "light"
     },
     "output_type": "display_data"
    }
   ],
   "source": [
    "'''Checked using Residuals vs Fitted plot. \n",
    "   Interpretation: There should not be any wavy/straight line patterns in graph'''\n",
    "\n",
    "\n",
    "import matplotlib.pyplot as plt\n",
    "plot_lm_1 = plt.figure(1)\n",
    "plot_lm_1.set_figheight(8)\n",
    "plot_lm_1.set_figwidth(12)\n",
    "\n",
    "# fitted values(predicted values) (need a constant term for intercept)\n",
    "model_fitted_y = lm_model.fittedvalues\n",
    "\n",
    "plot_lm_1.axes[0] = sns.residplot(model_fitted_y, 'sales', data=new_df, lowess=True)\n",
    "\n",
    "plot_lm_1.axes[0].set_title('Residuals vs Fitted')\n",
    "plot_lm_1.axes[0].set_xlabel('Fitted values')\n",
    "plot_lm_1.axes[0].set_ylabel('Residuals')"
   ]
  },
  {
   "cell_type": "markdown",
   "metadata": {},
   "source": [
    "### Assumption2: Errors should follow normal distribution"
   ]
  },
  {
   "cell_type": "code",
   "execution_count": 96,
   "metadata": {
    "scrolled": true
   },
   "outputs": [
    {
     "data": {
      "image/png": "[encoded data removed]",
      "text/plain": [
       "<Figure size 432x288 with 1 Axes>"
      ]
     },
     "metadata": {
      "needs_background": "light"
     },
     "output_type": "display_data"
    }
   ],
   "source": [
    "'''Checked using normal Quantile Quantile Plot\n",
    "   If the data points are following the red diagonal line then they are said to follow the noraml distribution. \n",
    "   If not we need to get back to model again'''\n",
    "\n",
    "\n",
    "res = lm_model.resid\n",
    "import statsmodels.api as stm\n",
    "import scipy.stats as stats\n",
    "fig = stm.qqplot(res, fit=True, line='45')\n",
    "plt.title('Normal Q-Q')\n",
    "plt.xlabel('Theoretical Quantiles')\n",
    "plt.ylabel('Standardized Residuals')\n",
    "plt.show()"
   ]
  },
  {
   "cell_type": "markdown",
   "metadata": {},
   "source": [
    "### Assumption3: errors should follow constant variance(Homoskedasticity)"
   ]
  },
  {
   "cell_type": "code",
   "execution_count": 97,
   "metadata": {},
   "outputs": [
    {
     "data": {
      "text/plain": [
       "Text(0, 0.5, '$\\\\sqrt{|Standardized Residuals|}$')"
      ]
     },
     "execution_count": 97,
     "metadata": {},
     "output_type": "execute_result"
    },
    {
     "data": {
      "image/png": "[encoded data removed]",
      "text/plain": [
       "<Figure size 864x576 with 1 Axes>"
      ]
     },
     "metadata": {
      "needs_background": "light"
     },
     "output_type": "display_data"
    }
   ],
   "source": [
    "'''checked using scale location plot\n",
    "  we get same mean and varaince when we divide the plot into scatter regions and they ends up approximately horizintal line. \n",
    "  We shouldn't get steep angle (like v shaped)'''\n",
    "\n",
    "# normalized residuals\n",
    "model_norm_residuals = lm_model.get_influence().resid_studentized_internal\n",
    "# absolute squared normalized residuals\n",
    "model_norm_residuals_abs_sqrt = np.sqrt(np.abs(model_norm_residuals))\n",
    "\n",
    "plot_lm_3 = plt.figure(3)\n",
    "plot_lm_3.set_figheight(8)\n",
    "plot_lm_3.set_figwidth(12)\n",
    "plt.scatter(model_fitted_y, model_norm_residuals_abs_sqrt, alpha=0.5)\n",
    "sns.regplot(model_fitted_y, model_norm_residuals_abs_sqrt, lowess=True)\n",
    "\n",
    "\n",
    "plot_lm_3.axes[0].set_title('Scale-Location')\n",
    "plot_lm_3.axes[0].set_xlabel('Fitted values')\n",
    "plot_lm_3.axes[0].set_ylabel('$\\sqrt{|Standardized Residuals|}$')"
   ]
  },
  {
   "cell_type": "markdown",
   "metadata": {},
   "source": []
  },
  {
   "cell_type": "code",
   "execution_count": 98,
   "metadata": {
    "collapsed": true
   },
   "outputs": [
    {
     "data": {
      "text/plain": [
       "'General : In industry we generally build the model using sklearn library intially(only linear reg). \\n   In order to conclude on p values and auto corealtion assumption it is good to build model using stats model library. Then it\\n   is good to check post model assumptions. If everything goes well conclude on significant vars and \\n   again build final model using sklearn library (leads to Lasso when we consider only significant vars(like in this\\n   case study as TV and Radio only))'"
      ]
     },
     "execution_count": 98,
     "metadata": {},
     "output_type": "execute_result"
    }
   ],
   "source": []
  },
  {
   "cell_type": "markdown",
   "metadata": {},
   "source": [
    "### Approach 2 : Stochastic gradient descent Method"
   ]
  },
  {
   "cell_type": "code",
   "execution_count": 100,
   "metadata": {},
   "outputs": [
    {
     "name": "stdout",
     "output_type": "stream",
     "text": [
      "[[ 9.69852266e-01  9.81522472e-01  1.27054817e+00]\n",
      " [-1.19737623e+00  1.08280781e+00  7.84008452e-01]\n",
      " [-1.51615499e+00  1.52846331e+00  1.27219508e+00]\n",
      " [ 5.20496822e-02  1.21785493e+00  1.07922051e+00]\n",
      " [ 3.94182198e-01 -8.41613655e-01  1.07727442e+00]\n",
      " [-1.61540845e+00  1.73103399e+00  1.36239293e+00]\n",
      " [-1.04557682e+00  6.43904671e-01  5.26522686e-02]\n",
      " [-3.13436589e-01 -2.47406325e-01 -7.16694174e-01]\n",
      " [-1.61657614e+00 -1.42906863e+00 -2.84612391e+00]\n",
      " [ 6.16042873e-01 -1.39530685e+00 -6.14011337e-02]\n",
      " [-9.45155670e-01 -1.17923146e+00  8.52446540e-02]\n",
      " [ 7.90028350e-01  4.96973404e-02 -1.78601844e+00]\n",
      " [-1.43908760e+00  7.99208859e-01  1.21484164e+00]\n",
      " [-5.78501712e-01 -1.05768905e+00 -1.21367806e+00]\n",
      " [ 6.66253447e-01  6.50657027e-01  8.06377739e-01]\n",
      " [ 5.64664612e-01  1.65000572e+00  9.64860512e-01]\n",
      " [-9.25304978e-01  9.00494200e-01  1.84160153e+00]\n",
      " [ 1.56887609e+00  1.10306488e+00  1.02549162e+00]\n",
      " [-9.08957349e-01 -1.86635121e-01 -2.23359761e-01]\n",
      " [ 3.00679600e-03  4.29449843e-02 -1.76370432e-01]\n",
      " [ 8.33232798e-01  2.99534513e-01  9.75543442e-01]\n",
      " [ 1.05509347e+00 -1.22649795e+00  5.26522686e-02]\n",
      " [-1.56286250e+00 -4.97243498e-01  8.91765481e-01]\n",
      " [ 9.48833887e-01 -4.29719938e-01  1.73604614e-01]\n",
      " [-9.89527805e-01 -7.20071247e-01 -2.23359761e-01]\n",
      " [ 1.35285385e+00 -1.33453565e+00 -1.53572588e-01]\n",
      " [-4.83714657e-02  4.07572210e-01 -6.28334214e-01]\n",
      " [ 1.08662104e+00 -4.43224650e-01  2.39660097e-02]\n",
      " [ 1.18820988e+00  2.59020377e-01  2.39660097e-02]\n",
      " [-8.92609721e-01 -4.90491142e-01  6.70723519e-01]\n",
      " [ 1.70316018e+00  3.40048650e-01  7.35314421e-01]\n",
      " [-3.98677796e-01 -3.95958157e-01  6.08170276e-01]\n",
      " [-5.82004775e-01 -1.46958277e+00  3.24899648e-01]\n",
      " [ 1.38438142e+00 -2.20396901e-01 -3.34451957e+00]\n",
      " [-5.99520091e-01 -1.47633512e+00 -1.18579832e+00]\n",
      " [ 1.67747105e+00 -1.29402151e+00 -1.04342355e+00]\n",
      " [ 1.39956136e+00  1.38666383e+00 -1.57508094e+00]\n",
      " [-8.44734522e-01  1.76479577e+00  7.98969262e-01]\n",
      " [-1.21372386e+00  2.32010953e-01  5.01110165e-01]\n",
      " [ 9.45330823e-01  9.74770116e-01  3.97232773e-01]\n",
      " [ 6.47570443e-01 -6.50927121e-02  3.83123413e-01]\n",
      " [ 3.49810063e-01  6.84418807e-01  6.11088192e-01]\n",
      " [ 1.71133400e+00  2.99534513e-01 -2.45684129e+00]\n",
      " [ 6.98948705e-01 -1.00367020e+00  1.82080499e-01]\n",
      " [-1.42390765e+00  1.64487393e-01  7.37929006e-01]\n",
      " [ 3.27623995e-01 -5.15880000e-02  3.79569023e-01]\n",
      " [-6.69581357e-01 -9.02384859e-01  5.20181253e-01]\n",
      " [ 1.08428567e+00  1.23135965e+00 -2.11432303e-01]\n",
      " [ 9.35989321e-01 -5.03995854e-01  8.98604633e-01]\n",
      " [-9.35814168e-01 -7.80842451e-01  5.54348797e-01]\n",
      " [ 6.16042873e-01 -1.36154507e+00  4.84973876e-01]\n",
      " [-5.44638766e-01 -9.22641928e-01 -1.88248706e+00]\n",
      " [ 8.09879042e-01  1.24486436e+00  6.37023472e-01]\n",
      " [ 4.15200577e-01  1.54872038e+00  1.08310291e+00]\n",
      " [ 1.35051848e+00  3.73810430e-01 -3.76993277e-01]\n",
      " [ 6.05533683e-01  1.76479577e+00  1.10802581e+00]\n",
      " [-1.63175608e+00  3.26543937e-01  6.87212442e-01]\n",
      " [-1.26606546e-01 -2.74415749e-01 -3.30038009e-01]\n",
      " [ 7.44488528e-01  1.77830048e+00  5.81572480e-01]\n",
      " [ 7.43320840e-01  4.21076922e-01 -9.49881463e-01]\n",
      " [-1.09228433e+00 -1.43582099e+00 -5.10248025e-02]\n",
      " [ 1.33417085e+00  1.31238792e+00  1.00286604e+00]\n",
      " [ 1.07727954e+00 -5.24252922e-01  2.19471827e-01]\n",
      " [-5.17781948e-01  4.27829278e-01 -1.05566656e+00]\n",
      " [-1.86158622e-01  1.31914027e+00  2.83100406e-01]\n",
      " [-9.11292725e-01 -9.42898996e-01 -2.90546785e+00]\n",
      " [-1.34917564e+00  9.02114765e-02 -2.30235172e+00]\n",
      " [-9.04082253e-02 -5.91776482e-01 -8.52963631e-01]\n",
      " [ 1.05509347e+00  2.86029801e-01 -7.73142110e-01]\n",
      " [ 8.14549794e-01  1.39341619e+00  2.15376414e-01]\n",
      " [ 6.07869059e-01  4.95352838e-01  6.11088192e-01]\n",
      " [-4.34876116e-01 -6.05281194e-01  3.86666917e-01]\n",
      " [-1.40405696e+00  6.57409383e-01 -1.64915357e-01]\n",
      " [-2.06009314e-01 -1.18598381e+00  3.72427314e-01]\n",
      " [ 7.74848409e-01  9.02114765e-02 -5.86562415e-01]\n",
      " [-1.51965805e+00  1.37991148e+00  1.56313695e+00]\n",
      " [-1.39588315e+00 -1.46283041e+00 -8.77565597e-02]\n",
      " [-3.09933525e-01  3.53553362e-01 -4.99651363e-01]\n",
      " [-1.65394214e+00  4.48086346e-01 -9.38703084e-01]\n",
      " [-3.62479475e-01 -1.05093669e+00  3.36073419e-02]\n",
      " [-8.24883830e-01  2.32010953e-01 -5.44963848e-03]\n",
      " [ 1.08311798e+00 -1.29402151e+00  5.57405478e-01]\n",
      " [-8.37728396e-01 -2.00139833e-01  4.14630893e-01]\n",
      " [-9.18298852e-01  1.43393033e+00  5.17024490e-01]\n",
      " [ 7.76016097e-01  1.33264499e+00  4.58678354e-01]\n",
      " [ 5.38975481e-01 -3.28434597e-01  1.21137770e+00]\n",
      " [-8.26051518e-01  2.86029801e-01 -3.70167575e-01]\n",
      " [-4.24366926e-01  1.17058844e+00  1.16718007e+00]\n",
      " [-6.85928986e-01  1.50982681e-01  1.33777598e+00]\n",
      " [-4.34876116e-01  1.65675807e+00  9.32206797e-01]\n",
      " [-1.48792614e-01 -1.24000266e+00 -9.49881463e-01]\n",
      " [-1.38303858e+00 -1.46958277e+00  4.31771253e-01]\n",
      " [ 8.25058983e-01  6.91171163e-01  1.08890219e+00]\n",
      " [ 1.21273132e+00  8.93741844e-01  1.32054278e+00]\n",
      " [-4.62900623e-01 -6.25538262e-01 -7.82823783e-01]\n",
      " [ 1.89836839e-01  5.62876398e-01  9.64860512e-01]\n",
      " [ 5.90353742e-01 -1.33453565e+00 -1.41338292e+00]\n",
      " [ 4.42057396e-01 -1.52873340e-01 -2.04427620e-02]\n",
      " [ 1.66579418e+00  1.28537849e+00  9.27782496e-01]\n",
      " [-1.38283424e-01  1.24486436e+00  8.03913514e-01]\n",
      " [ 8.79940308e-01 -1.28051680e+00  8.96329405e-01]\n",
      " [ 1.74402926e+00  8.80237132e-01  1.70167940e+00]\n",
      " [ 1.55486384e+00 -8.88880147e-01 -5.10248025e-02]\n",
      " [ 4.77088029e-01 -4.09462869e-01 -2.47590032e-01]\n",
      " [ 1.06443498e+00  7.45190011e-01 -1.51863300e+00]\n",
      " [-1.06755854e-01  1.56222509e+00  1.08890219e+00]\n",
      " [-1.42507534e+00 -8.28108943e-01  3.13648799e-01]\n",
      " [-6.61407543e-01 -1.55061104e+00  3.83980451e-02]\n",
      " [-1.56403019e+00 -1.54385868e+00  1.47797897e-01]\n",
      " [ 1.26527727e+00  2.45515665e-01 -1.48247527e+00]\n",
      " [ 9.19641692e-01 -1.01717491e+00  1.03966271e+00]\n",
      " [ 1.10530405e+00  9.95027184e-01  3.83980451e-02]\n",
      " [ 3.34630122e-01 -5.31005278e-01 -2.23221187e+00]\n",
      " [ 7.30476274e-01 -1.79882765e-01 -8.02433628e-01]\n",
      " [-8.03865450e-01  1.58923451e+00  4.81719434e-01]\n",
      " [-8.40063771e-01  7.92456503e-01  9.60559566e-01]\n",
      " [-9.15759131e-02 -6.05281194e-01  1.47797897e-01]\n",
      " [-8.24883830e-01 -1.51684926e+00 -4.54860486e-01]\n",
      " [-2.49213762e-01  9.20751268e-01  1.42462565e+00]\n",
      " [-1.49046586e+00 -4.90491142e-01 -5.44963848e-03]\n",
      " [-6.70544700e-02  2.38763309e-01  8.11290499e-01]\n",
      " [-1.49747198e+00 -1.05606848e-01  9.09914138e-01]\n",
      " [ 8.98623313e-01 -1.40881156e+00 -3.97715381e-01]\n",
      " [-2.79573643e-01  7.65447079e-01 -6.45474575e-01]\n",
      " [ 9.62846140e-01  6.10142891e-01  1.35014993e+00]\n",
      " [-6.98773552e-01 -7.74090095e-01  1.60773209e-01]\n",
      " [-1.62591764e+00  1.05579839e+00  9.14407166e-01]\n",
      " [-7.80511695e-01 -1.57086811e+00 -9.61168900e-01]\n",
      " [ 8.55418865e-01  1.73778635e+00 -1.98773715e+00]\n",
      " [-1.02105537e+00 -7.60585383e-01  7.32693914e-01]\n",
      " [-1.70882347e+00  1.10306488e+00 -1.01931949e+00]\n",
      " [ 1.37971067e+00 -1.37504978e+00  7.30067459e-01]\n",
      " [-1.61891151e+00  2.65772733e-01 -2.33908348e+00]\n",
      " [ 8.49580427e-01  6.91171163e-01  7.84008452e-01]\n",
      " [-1.28612050e+00  1.03554132e+00  1.20964184e+00]\n",
      " [-1.15300409e+00  1.60273923e+00 -1.04342355e+00]\n",
      " [-1.41806922e+00  1.06255074e+00 -9.49881463e-01]\n",
      " [ 1.47896413e+00  3.80562786e-01  1.10232184e+00]\n",
      " [-1.21489154e+00  1.77992105e-01 -9.84691656e-02]\n",
      " [ 4.42057396e-01  1.39341619e+00 -2.49891695e+00]\n",
      " [-8.59914463e-01 -4.22967582e-01 -6.03090598e-01]\n",
      " [ 5.44813920e-01  8.19465927e-01  1.37149091e+00]\n",
      " [ 8.57754241e-01  6.70914095e-01  5.87536170e-01]\n",
      " [-4.95595880e-01 -1.18598381e+00  4.78455813e-01]\n",
      " [-5.93681653e-01 -5.71519414e-01  6.16902040e-01]\n",
      " [-7.87313476e-02 -1.44257334e+00 -9.84079613e-01]\n",
      " [ 1.08662104e+00 -1.07794612e+00 -1.01931949e+00]\n",
      " [ 1.12281936e+00  1.73778635e+00  7.63754925e-01]\n",
      " [-1.27327593e+00  1.15033137e+00 -6.89470491e-01]\n",
      " [-1.19504085e+00  1.71239749e-01 -9.31004638e-02]\n",
      " [ 1.56070228e+00 -6.32290618e-01  5.60454105e-01]\n",
      " [-3.04095087e-01 -1.00367020e+00  8.71002056e-01]\n",
      " [ 5.90353742e-01  2.43084817e-03 -4.99651363e-01]\n",
      " [ 2.83251860e-01  1.10981724e+00  5.81572480e-01]\n",
      " [ 4.75920341e-01 -1.46120984e-01 -9.27631678e-01]\n",
      " [-1.66912209e+00 -7.87594807e-01 -1.44741340e+00]\n",
      " [-6.20538471e-01  1.36640677e+00  9.12162833e-01]\n",
      " [ 3.21989902e-02 -1.48308748e+00  8.98266528e-02]\n",
      " [-1.58037782e+00  9.20751268e-01  7.86515394e-01]\n",
      " [-1.79152496e-01 -3.28434597e-01  4.84973876e-01]\n",
      " [ 2.97264113e-01 -3.48691665e-01  3.50733806e-01]\n",
      " [-7.16288868e-01  8.46475352e-01  8.84885660e-01]\n",
      " [ 4.82926468e-01 -3.48691665e-01  1.47797897e-01]\n",
      " [ 1.92172214e-01  9.13998912e-01 -1.18579832e+00]\n",
      " [-3.48467222e-01 -5.78271770e-01 -1.50041289e+00]\n",
      " [ 1.02123053e+00 -1.34128800e+00  1.50271477e+00]\n",
      " [-1.50798117e+00  9.68017760e-01 -4.07407066e-02]\n",
      " [ 6.97781017e-01 -1.21974559e+00 -1.59230072e-01]\n",
      " [ 7.98202165e-01  2.26879163e-02  1.06158668e+00]\n",
      " [ 1.60273904e+00 -8.55118367e-01 -1.33244410e+00]\n",
      " [-1.13315340e+00 -7.87594807e-01 -2.17380661e-01]\n",
      " [ 2.03849092e-01 -1.59625696e-01  8.40336874e-01]\n",
      " [-1.48813048e+00 -2.13644545e-01 -3.04037967e-01]\n",
      " [ 2.49388915e-01 -1.09145083e+00 -6.11444087e-01]\n",
      " [ 8.79940308e-01 -1.34128800e+00 -5.86562415e-01]\n",
      " [ 1.51633014e+00  1.73103399e+00  6.98075932e-01]\n",
      " [ 1.18353913e+00  4.68343414e-01 -1.09281891e-01]\n",
      " [ 2.70407294e-01 -1.04418434e+00  5.04310591e-01]\n",
      " [ 1.51399477e+00 -1.41556392e+00  6.20584438e-02]\n",
      " [ 2.16693657e-01 -8.95632503e-01 -2.66101678e-01]\n",
      " [ 1.11601758e-01 -1.39530685e+00 -1.06804051e+00]\n",
      " [ 8.34400486e-01 -1.20624088e+00  2.23552795e-01]\n",
      " [-1.06075676e+00 -1.18598381e+00  3.13648799e-01]\n",
      " [ 1.64127273e+00  1.33264499e+00  1.31262383e+00]\n",
      " [ 1.24659427e+00 -1.32616272e-01  3.24899648e-01]\n",
      " [ 6.76762637e-01  1.47444446e+00 -1.47942634e-01]\n",
      " [-8.80728498e-02 -1.42906863e+00  1.90494741e-01]\n",
      " [ 5.14454038e-01  3.67058074e-01 -2.29369920e-01]\n",
      " [ 1.62258973e+00 -6.32290618e-01 -1.85760539e+00]\n",
      " [-1.49863967e+00 -7.53833027e-01  4.79203472e-02]\n",
      " [-1.25576062e+00  1.20435022e+00 -1.43027304e+00]\n",
      " [-8.35393020e-01 -8.41613655e-01 -1.39673582e+00]\n",
      " [-1.51615499e+00 -1.29402151e+00  3.83123413e-01]\n",
      " [ 2.30705910e-01  1.26512143e+00 -1.88248706e+00]\n",
      " [ 3.10313024e-02  8.32970639e-01 -1.39673582e+00]\n",
      " [-1.27094056e+00 -1.32103093e+00 -5.30505276e-01]\n",
      " [-6.17035408e-01 -1.24000266e+00 -1.09319265e+00]\n",
      " [ 3.49810063e-01 -9.42898996e-01 -1.33244410e+00]\n",
      " [ 1.59456522e+00  1.26512143e+00  1.22001817e+00]\n",
      " [ 9.93206022e-01 -9.90165488e-01 -1.01931949e+00]]\n"
     ]
    }
   ],
   "source": [
    "#Scaling the whole data\n",
    "\n",
    "from sklearn.preprocessing import StandardScaler\n",
    "scaler=StandardScaler()\n",
    "\n",
    "'''fit function will take original data of ind vars get mean and stnd devaitaion of each ind var and stores into scaler object(training part)\n",
    "   transform function will take original data of ind vars and get mean and stnd devaitaion of each ind var from scalar object\n",
    "   and transform them into the range using the formula (refer the linear reg doc)'''\n",
    "\n",
    "X=scaler.fit_transform(X)\n",
    "\n",
    "#can write fit and transform at once like above or use separately as below\n",
    "#scaler.fit(X)\n",
    "#X=scaler.transform(X)\n",
    "\n",
    "print(X)"
   ]
  },
  {
   "cell_type": "code",
   "execution_count": 101,
   "metadata": {},
   "outputs": [],
   "source": [
    "from sklearn.model_selection import train_test_split\n",
    "X_train,X_test,Y_train,Y_test=train_test_split(X,Y,test_size=0.2,random_state=10)"
   ]
  },
  {
   "cell_type": "code",
   "execution_count": 103,
   "metadata": {
    "scrolled": true
   },
   "outputs": [
    {
     "name": "stdout",
     "output_type": "stream",
     "text": [
      "[14.12127235]\n",
      "[ 3.8052956   2.80435173 -0.02716654]\n"
     ]
    }
   ],
   "source": [
    "#Build the model\n",
    "\n",
    "'''learning_rate: alpha: as it should be constant\n",
    "   eta: alpha(constant) value\n",
    "   shuffle: default is set to true, once an epoch is done in the next epoch the order of the obs is shuffled.\n",
    "   random_state: To get everytime same kind of shuffling(above discussed) we used random_state.\n",
    "   max_iter : max no of epcohs model can perform (1000 times it will iterate through whole data(160 obs here))\n",
    "   early_stopping: By setting True we specify if zero convergence is reached stop. SGD regressor will automatically consider 10% \n",
    "                   train data as validation data to test and find the error values on this data during the iterations.\n",
    "   n_of_iter_changes: After how many iterations error values are same it should consider as zero convergence'''\n",
    "   \n",
    "from sklearn.linear_model import SGDRegressor\n",
    "\n",
    "lm = SGDRegressor(learning_rate=\"constant\",eta0=0.01,shuffle=True,random_state=10,max_iter=1000,\n",
    "early_stopping=True,n_iter_no_change=5)\n",
    "lm.fit(X_train,Y_train)\n",
    "\n",
    "# print intercept and coefficients\n",
    "print (lm.intercept_)\n",
    "print (lm.coef_)"
   ]
  },
  {
   "cell_type": "code",
   "execution_count": 110,
   "metadata": {},
   "outputs": [
    {
     "name": "stdout",
     "output_type": "stream",
     "text": [
      "7\n",
      "1121.0\n"
     ]
    }
   ],
   "source": [
    "# to know the model parmaters\n",
    "print(lm.n_iter_) # no of epochs are used to converge\n",
    "print(lm.t_) # no of iterations where weights were updated (160*7=1120). At 1121 iteration it reached zero convergence state "
   ]
  },
  {
   "cell_type": "code",
   "execution_count": 104,
   "metadata": {},
   "outputs": [
    {
     "name": "stdout",
     "output_type": "stream",
     "text": [
      "0.8380570793763203\n",
      "2.567296453484143\n",
      "0.8355783612035089\n"
     ]
    }
   ],
   "source": [
    "Y_pred_new=lm.predict(X_test)\n",
    "\n",
    "from sklearn.metrics import r2_score,mean_squared_error\n",
    "import numpy as np\n",
    "\n",
    "r2=r2_score(Y_test,Y_pred_new)\n",
    "print(r2)\n",
    "\n",
    "rmse=np.sqrt(mean_squared_error(Y_test,Y_pred_new))\n",
    "print(rmse)\n",
    "\n",
    "adjusted_r_squared = 1 - (1-r2)*(len(Y)-1)/(len(Y)-X.shape[1]-1)\n",
    "print(adjusted_r_squared)"
   ]
  },
  {
   "cell_type": "markdown",
   "metadata": {},
   "source": [
    "### Finally we can conclude SGD model will be final after comparison of R2,adjusted R2,RMSE in this case study. But as per industry standard Lasso  wins the race"
   ]
  },
  {
   "cell_type": "code",
   "execution_count": null,
   "metadata": {},
   "outputs": [],
   "source": [
    "'''Industry approach: \n",
    "   We generally build the model using sklearn library intially(only linear reg). \n",
    "   In order to conclude on p values and auto corealtion assumption it is good to build model using stats model library. Then it\n",
    "   is good to check post model assumptions.If everything goes well conclude on significant vars and \n",
    "   again build final model using sklearn library (leads to Lasso when we consider only significant vars(like in this\n",
    "   case study as TV and Radio only)). \n",
    "   \n",
    "   But SGD is not majorly used as LR has it own reputation and improves using Lasso or Ridge. We switch to another algorithm as\n",
    "   this is a complex iterative approach.'''"
   ]
  }
 ],
 "metadata": {
  "kernelspec": {
   "display_name": "Python 3",
   "language": "python",
   "name": "python3"
  },
  "language_info": {
   "codemirror_mode": {
    "name": "ipython",
    "version": 3
   },
   "file_extension": ".py",
   "mimetype": "text/x-python",
   "name": "python",
   "nbconvert_exporter": "python",
   "pygments_lexer": "ipython3",
   "version": "3.7.4"
  }
 },
 "nbformat": 4,
 "nbformat_minor": 2
}
