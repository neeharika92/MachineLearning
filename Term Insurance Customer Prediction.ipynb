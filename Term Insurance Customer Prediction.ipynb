{
 "cells": [
  {
   "cell_type": "code",
   "execution_count": 2,
   "metadata": {},
   "outputs": [],
   "source": [
    "import pandas as pd\n",
    "import numpy as np"
   ]
  },
  {
   "cell_type": "code",
   "execution_count": 3,
   "metadata": {},
   "outputs": [
    {
     "data": {
      "text/html": [
       "<div>\n",
       "<style scoped>\n",
       "    .dataframe tbody tr th:only-of-type {\n",
       "        vertical-align: middle;\n",
       "    }\n",
       "\n",
       "    .dataframe tbody tr th {\n",
       "        vertical-align: top;\n",
       "    }\n",
       "\n",
       "    .dataframe thead th {\n",
       "        text-align: right;\n",
       "    }\n",
       "</style>\n",
       "<table border=\"1\" class=\"dataframe\">\n",
       "  <thead>\n",
       "    <tr style=\"text-align: right;\">\n",
       "      <th></th>\n",
       "      <th>Age</th>\n",
       "      <th>Job</th>\n",
       "      <th>Marital</th>\n",
       "      <th>Qualification</th>\n",
       "      <th>Default_Premium</th>\n",
       "      <th>Health_Insurance</th>\n",
       "      <th>General_Insurance</th>\n",
       "      <th>Contact</th>\n",
       "      <th>Month</th>\n",
       "      <th>Last_Contact_Day</th>\n",
       "      <th>...</th>\n",
       "      <th>Contacts_During_Campaign</th>\n",
       "      <th>Previous_Contact_Days</th>\n",
       "      <th>Contacts_Before_Campaign</th>\n",
       "      <th>Previous_Outcome</th>\n",
       "      <th>Employement_Rates</th>\n",
       "      <th>Price_Variation</th>\n",
       "      <th>Consumer_Confidence_Index</th>\n",
       "      <th>Insurance_Rate</th>\n",
       "      <th>No_Employees</th>\n",
       "      <th>Client_Subscribed</th>\n",
       "    </tr>\n",
       "  </thead>\n",
       "  <tbody>\n",
       "    <tr>\n",
       "      <th>0</th>\n",
       "      <td>56</td>\n",
       "      <td>3</td>\n",
       "      <td>1</td>\n",
       "      <td>0</td>\n",
       "      <td>0</td>\n",
       "      <td>0</td>\n",
       "      <td>0</td>\n",
       "      <td>1</td>\n",
       "      <td>6</td>\n",
       "      <td>1</td>\n",
       "      <td>...</td>\n",
       "      <td>1</td>\n",
       "      <td>999</td>\n",
       "      <td>0</td>\n",
       "      <td>1</td>\n",
       "      <td>1.1</td>\n",
       "      <td>94.159686</td>\n",
       "      <td>-38.173679</td>\n",
       "      <td>3.543298</td>\n",
       "      <td>5074.493963</td>\n",
       "      <td>0</td>\n",
       "    </tr>\n",
       "    <tr>\n",
       "      <th>1</th>\n",
       "      <td>57</td>\n",
       "      <td>7</td>\n",
       "      <td>1</td>\n",
       "      <td>1</td>\n",
       "      <td>1</td>\n",
       "      <td>0</td>\n",
       "      <td>0</td>\n",
       "      <td>1</td>\n",
       "      <td>6</td>\n",
       "      <td>1</td>\n",
       "      <td>...</td>\n",
       "      <td>1</td>\n",
       "      <td>999</td>\n",
       "      <td>0</td>\n",
       "      <td>1</td>\n",
       "      <td>1.1</td>\n",
       "      <td>93.374479</td>\n",
       "      <td>-33.312428</td>\n",
       "      <td>6.013585</td>\n",
       "      <td>5125.221264</td>\n",
       "      <td>0</td>\n",
       "    </tr>\n",
       "    <tr>\n",
       "      <th>2</th>\n",
       "      <td>37</td>\n",
       "      <td>7</td>\n",
       "      <td>1</td>\n",
       "      <td>1</td>\n",
       "      <td>0</td>\n",
       "      <td>2</td>\n",
       "      <td>0</td>\n",
       "      <td>1</td>\n",
       "      <td>6</td>\n",
       "      <td>1</td>\n",
       "      <td>...</td>\n",
       "      <td>1</td>\n",
       "      <td>999</td>\n",
       "      <td>0</td>\n",
       "      <td>1</td>\n",
       "      <td>1.1</td>\n",
       "      <td>94.100629</td>\n",
       "      <td>-51.947349</td>\n",
       "      <td>2.784063</td>\n",
       "      <td>5205.455324</td>\n",
       "      <td>0</td>\n",
       "    </tr>\n",
       "    <tr>\n",
       "      <th>3</th>\n",
       "      <td>40</td>\n",
       "      <td>0</td>\n",
       "      <td>1</td>\n",
       "      <td>0</td>\n",
       "      <td>0</td>\n",
       "      <td>0</td>\n",
       "      <td>0</td>\n",
       "      <td>1</td>\n",
       "      <td>6</td>\n",
       "      <td>1</td>\n",
       "      <td>...</td>\n",
       "      <td>1</td>\n",
       "      <td>999</td>\n",
       "      <td>0</td>\n",
       "      <td>1</td>\n",
       "      <td>1.1</td>\n",
       "      <td>92.772613</td>\n",
       "      <td>-35.624584</td>\n",
       "      <td>4.459237</td>\n",
       "      <td>5096.139930</td>\n",
       "      <td>0</td>\n",
       "    </tr>\n",
       "    <tr>\n",
       "      <th>4</th>\n",
       "      <td>56</td>\n",
       "      <td>7</td>\n",
       "      <td>1</td>\n",
       "      <td>1</td>\n",
       "      <td>0</td>\n",
       "      <td>0</td>\n",
       "      <td>2</td>\n",
       "      <td>1</td>\n",
       "      <td>6</td>\n",
       "      <td>1</td>\n",
       "      <td>...</td>\n",
       "      <td>1</td>\n",
       "      <td>999</td>\n",
       "      <td>0</td>\n",
       "      <td>1</td>\n",
       "      <td>1.1</td>\n",
       "      <td>93.241248</td>\n",
       "      <td>-33.492147</td>\n",
       "      <td>3.988744</td>\n",
       "      <td>5112.681264</td>\n",
       "      <td>0</td>\n",
       "    </tr>\n",
       "  </tbody>\n",
       "</table>\n",
       "<p>5 rows × 21 columns</p>\n",
       "</div>"
      ],
      "text/plain": [
       "   Age  Job  Marital  Qualification  Default_Premium  Health_Insurance  \\\n",
       "0   56    3        1              0                0                 0   \n",
       "1   57    7        1              1                1                 0   \n",
       "2   37    7        1              1                0                 2   \n",
       "3   40    0        1              0                0                 0   \n",
       "4   56    7        1              1                0                 0   \n",
       "\n",
       "   General_Insurance  Contact  Month  Last_Contact_Day  ...  \\\n",
       "0                  0        1      6                 1  ...   \n",
       "1                  0        1      6                 1  ...   \n",
       "2                  0        1      6                 1  ...   \n",
       "3                  0        1      6                 1  ...   \n",
       "4                  2        1      6                 1  ...   \n",
       "\n",
       "   Contacts_During_Campaign  Previous_Contact_Days  Contacts_Before_Campaign  \\\n",
       "0                         1                    999                         0   \n",
       "1                         1                    999                         0   \n",
       "2                         1                    999                         0   \n",
       "3                         1                    999                         0   \n",
       "4                         1                    999                         0   \n",
       "\n",
       "   Previous_Outcome  Employement_Rates  Price_Variation  \\\n",
       "0                 1                1.1        94.159686   \n",
       "1                 1                1.1        93.374479   \n",
       "2                 1                1.1        94.100629   \n",
       "3                 1                1.1        92.772613   \n",
       "4                 1                1.1        93.241248   \n",
       "\n",
       "   Consumer_Confidence_Index  Insurance_Rate  No_Employees  Client_Subscribed  \n",
       "0                 -38.173679        3.543298   5074.493963                  0  \n",
       "1                 -33.312428        6.013585   5125.221264                  0  \n",
       "2                 -51.947349        2.784063   5205.455324                  0  \n",
       "3                 -35.624584        4.459237   5096.139930                  0  \n",
       "4                 -33.492147        3.988744   5112.681264                  0  \n",
       "\n",
       "[5 rows x 21 columns]"
      ]
     },
     "execution_count": 3,
     "metadata": {},
     "output_type": "execute_result"
    }
   ],
   "source": [
    "insurance_data=pd.read_csv(r\"C:\\Python Imarticus\\Basics\\Assignments\\Decision Tree & Ensemble Modelling\\Term Insurance Customer Prediction\\Insurance_Marketing.csv\",header=0)\n",
    "insurance_data.head()"
   ]
  },
  {
   "cell_type": "code",
   "execution_count": 4,
   "metadata": {},
   "outputs": [
    {
     "name": "stdout",
     "output_type": "stream",
     "text": [
      "(41188, 21)\n",
      "\n",
      "<class 'pandas.core.frame.DataFrame'>\n",
      "RangeIndex: 41188 entries, 0 to 41187\n",
      "Data columns (total 21 columns):\n",
      " #   Column                     Non-Null Count  Dtype  \n",
      "---  ------                     --------------  -----  \n",
      " 0   Age                        41188 non-null  int64  \n",
      " 1   Job                        41188 non-null  int64  \n",
      " 2   Marital                    41188 non-null  int64  \n",
      " 3   Qualification              41188 non-null  int64  \n",
      " 4   Default_Premium            41188 non-null  int64  \n",
      " 5   Health_Insurance           41188 non-null  int64  \n",
      " 6   General_Insurance          41188 non-null  int64  \n",
      " 7   Contact                    41188 non-null  int64  \n",
      " 8   Month                      41188 non-null  int64  \n",
      " 9   Last_Contact_Day           41188 non-null  int64  \n",
      " 10  Last_Contact_Duration      41188 non-null  int64  \n",
      " 11  Contacts_During_Campaign   41188 non-null  int64  \n",
      " 12  Previous_Contact_Days      41188 non-null  int64  \n",
      " 13  Contacts_Before_Campaign   41188 non-null  int64  \n",
      " 14  Previous_Outcome           41188 non-null  int64  \n",
      " 15  Employement_Rates          41188 non-null  float64\n",
      " 16  Price_Variation            41188 non-null  float64\n",
      " 17  Consumer_Confidence_Index  41188 non-null  float64\n",
      " 18  Insurance_Rate             41188 non-null  float64\n",
      " 19  No_Employees               41188 non-null  float64\n",
      " 20  Client_Subscribed          41188 non-null  int64  \n",
      "dtypes: float64(5), int64(16)\n",
      "memory usage: 6.6 MB\n",
      "None\n"
     ]
    }
   ],
   "source": [
    "print(insurance_data.shape)\n",
    "print()\n",
    "print(insurance_data.info())"
   ]
  },
  {
   "cell_type": "code",
   "execution_count": 5,
   "metadata": {},
   "outputs": [
    {
     "data": {
      "text/plain": [
       "Age                          0\n",
       "Job                          0\n",
       "Marital                      0\n",
       "Qualification                0\n",
       "Default_Premium              0\n",
       "Health_Insurance             0\n",
       "General_Insurance            0\n",
       "Contact                      0\n",
       "Month                        0\n",
       "Last_Contact_Day             0\n",
       "Last_Contact_Duration        0\n",
       "Contacts_During_Campaign     0\n",
       "Previous_Contact_Days        0\n",
       "Contacts_Before_Campaign     0\n",
       "Previous_Outcome             0\n",
       "Employement_Rates            0\n",
       "Price_Variation              0\n",
       "Consumer_Confidence_Index    0\n",
       "Insurance_Rate               0\n",
       "No_Employees                 0\n",
       "Client_Subscribed            0\n",
       "dtype: int64"
      ]
     },
     "execution_count": 5,
     "metadata": {},
     "output_type": "execute_result"
    }
   ],
   "source": [
    "insurance_data.isnull().sum()"
   ]
  },
  {
   "cell_type": "code",
   "execution_count": 6,
   "metadata": {},
   "outputs": [],
   "source": [
    "insurance_df=pd.DataFrame.copy(insurance_data)"
   ]
  },
  {
   "cell_type": "code",
   "execution_count": 7,
   "metadata": {},
   "outputs": [],
   "source": [
    "'''Last_Contact_Duration: attribute highly affects the output target (e.g., if duration=0 then Client_Subscribed='no'). \n",
    "Yet, the duration is not known before a call is performed. Also, after the end of the call y is obviously known. \n",
    "Thus, this input should only be included for benchmark purposes and should be discarded if the intention is to have \n",
    "a realistic predictive model.'''\n",
    "\n",
    "insurance_df=insurance_df.drop(['Last_Contact_Duration'],axis=1)"
   ]
  },
  {
   "cell_type": "code",
   "execution_count": 8,
   "metadata": {},
   "outputs": [
    {
     "data": {
      "text/plain": [
       "(41188, 20)"
      ]
     },
     "execution_count": 8,
     "metadata": {},
     "output_type": "execute_result"
    }
   ],
   "source": [
    "insurance_df.shape"
   ]
  },
  {
   "cell_type": "code",
   "execution_count": 9,
   "metadata": {},
   "outputs": [],
   "source": [
    "X=insurance_df.values[:,:-1]\n",
    "Y=insurance_df.values[:,-1]\n",
    "Y=Y.astype(int)"
   ]
  },
  {
   "cell_type": "code",
   "execution_count": 10,
   "metadata": {},
   "outputs": [],
   "source": [
    "from sklearn.preprocessing import StandardScaler\n",
    "scaler = StandardScaler()\n",
    "scaler.fit(X)\n",
    "X = scaler.transform(X)"
   ]
  },
  {
   "cell_type": "code",
   "execution_count": 11,
   "metadata": {},
   "outputs": [],
   "source": [
    "from sklearn.model_selection import train_test_split\n",
    "X_train, X_test, Y_train, Y_test = train_test_split(X, Y, test_size=0.3,random_state=10)"
   ]
  },
  {
   "cell_type": "code",
   "execution_count": 12,
   "metadata": {},
   "outputs": [],
   "source": [
    "#Decision tree\n",
    "\n",
    "from sklearn.tree import DecisionTreeClassifier\n",
    "model_DecisionTree=DecisionTreeClassifier(criterion='gini',random_state=10)\n",
    "model_DecisionTree.fit(X_train,Y_train)\n",
    "Y_pred=model_DecisionTree.predict(X_test)"
   ]
  },
  {
   "cell_type": "code",
   "execution_count": 13,
   "metadata": {},
   "outputs": [
    {
     "name": "stdout",
     "output_type": "stream",
     "text": [
      "[[9874 1061]\n",
      " [ 986  436]]\n",
      "\n",
      "classification report:\n",
      "              precision    recall  f1-score   support\n",
      "\n",
      "           0       0.91      0.90      0.91     10935\n",
      "           1       0.29      0.31      0.30      1422\n",
      "\n",
      "    accuracy                           0.83     12357\n",
      "   macro avg       0.60      0.60      0.60     12357\n",
      "weighted avg       0.84      0.83      0.84     12357\n",
      "\n",
      "\n",
      "Accuracy of the model:  0.8343449057214535\n"
     ]
    }
   ],
   "source": [
    "from sklearn.metrics import confusion_matrix,accuracy_score,classification_report\n",
    "\n",
    "cfm=confusion_matrix(Y_test,Y_pred)\n",
    "print(cfm)\n",
    "\n",
    "print()\n",
    "\n",
    "print(\"classification report:\")\n",
    "print(classification_report(Y_test,Y_pred))\n",
    "\n",
    "print()\n",
    "\n",
    "acc=accuracy_score(Y_test, Y_pred)\n",
    "print(\"Accuracy of the model: \",acc)"
   ]
  },
  {
   "cell_type": "code",
   "execution_count": 14,
   "metadata": {},
   "outputs": [
    {
     "name": "stdout",
     "output_type": "stream",
     "text": [
      "[('Age', 0.0760644887125595), ('Job', 0.03691327261093972), ('Marital', 0.013511553793415964), ('Qualification', 0.02985284679951267), ('Default_Premium', 0.0067930850150425305), ('Health_Insurance', 0.009320992938503258), ('General_Insurance', 0.013295706566202721), ('Contact', 0.01175640682151075), ('Month', 0.03987911640494868), ('Last_Contact_Day', 0.03884207145150901), ('Contacts_During_Campaign', 0.030665255402692604), ('Previous_Contact_Days', 0.1122115539667022), ('Contacts_Before_Campaign', 0.012717105691868224), ('Previous_Outcome', 0.004680547714184363), ('Employement_Rates', 0.0818604219333383), ('Price_Variation', 0.11939852611995026), ('Consumer_Confidence_Index', 0.11839321237607209), ('Insurance_Rate', 0.11355539834181237), ('No_Employees', 0.13028843733923476)]\n"
     ]
    }
   ],
   "source": [
    "print(list(zip(insurance_df.columns,model_DecisionTree.feature_importances_)))"
   ]
  },
  {
   "cell_type": "code",
   "execution_count": 15,
   "metadata": {},
   "outputs": [],
   "source": [
    "#Plot DT\n",
    "\n",
    "from sklearn import tree\n",
    "with open(\"C:\\Python Imarticus\\Basics\\Plots_Reports\\insurance_model_DecisionTree.txt\", \"w\") as f:\n",
    "    f = tree.export_graphviz(model_DecisionTree, feature_names=insurance_df.columns[:-1],out_file=f)"
   ]
  },
  {
   "cell_type": "code",
   "execution_count": 16,
   "metadata": {},
   "outputs": [
    {
     "data": {
      "text/plain": [
       "38"
      ]
     },
     "execution_count": 16,
     "metadata": {},
     "output_type": "execute_result"
    }
   ],
   "source": [
    "model_DecisionTree.get_depth()"
   ]
  },
  {
   "cell_type": "code",
   "execution_count": 17,
   "metadata": {},
   "outputs": [],
   "source": [
    "# Pruning DT\n",
    "\n",
    "from sklearn.tree import DecisionTreeClassifier\n",
    "model_DecisionTree=DecisionTreeClassifier(criterion='gini',min_samples_leaf=5,max_depth=25,random_state=10)\n",
    "model_DecisionTree.fit(X_train,Y_train)\n",
    "Y_pred=model_DecisionTree.predict(X_test)"
   ]
  },
  {
   "cell_type": "code",
   "execution_count": 18,
   "metadata": {},
   "outputs": [
    {
     "name": "stdout",
     "output_type": "stream",
     "text": [
      "[[10243   692]\n",
      " [ 1015   407]]\n",
      "\n",
      "classification report:\n",
      "              precision    recall  f1-score   support\n",
      "\n",
      "           0       0.91      0.94      0.92     10935\n",
      "           1       0.37      0.29      0.32      1422\n",
      "\n",
      "    accuracy                           0.86     12357\n",
      "   macro avg       0.64      0.61      0.62     12357\n",
      "weighted avg       0.85      0.86      0.85     12357\n",
      "\n",
      "\n",
      "Accuracy of the model:  0.86185967467832\n"
     ]
    }
   ],
   "source": [
    "from sklearn.metrics import confusion_matrix,accuracy_score,classification_report\n",
    "\n",
    "cfm=confusion_matrix(Y_test,Y_pred)\n",
    "print(cfm)\n",
    "\n",
    "print()\n",
    "\n",
    "print(\"classification report:\")\n",
    "print(classification_report(Y_test,Y_pred))\n",
    "\n",
    "print()\n",
    "\n",
    "acc=accuracy_score(Y_test, Y_pred)\n",
    "print(\"Accuracy of the model: \",acc)"
   ]
  },
  {
   "cell_type": "code",
   "execution_count": 19,
   "metadata": {},
   "outputs": [],
   "source": [
    "#Plot DT\n",
    "\n",
    "from sklearn import tree\n",
    "with open(\"C:\\Python Imarticus\\Basics\\Plots_Reports\\insurance_pruned_model_DecisionTree.txt\", \"w\") as f:\n",
    "    f = tree.export_graphviz(model_DecisionTree, feature_names=insurance_df.columns[:-1],out_file=f)"
   ]
  },
  {
   "cell_type": "code",
   "execution_count": 20,
   "metadata": {},
   "outputs": [],
   "source": [
    "#Random Forest\n",
    "\n",
    "from sklearn.ensemble import RandomForestClassifier\n",
    "model=RandomForestClassifier(n_estimators=200,random_state=10)\n",
    "model.fit(X_train,Y_train)\n",
    "Y_pred=model.predict(X_test)"
   ]
  },
  {
   "cell_type": "code",
   "execution_count": 21,
   "metadata": {},
   "outputs": [
    {
     "name": "stdout",
     "output_type": "stream",
     "text": [
      "[[10753   182]\n",
      " [ 1113   309]]\n",
      "\n",
      "classification report:\n",
      "              precision    recall  f1-score   support\n",
      "\n",
      "           0       0.91      0.98      0.94     10935\n",
      "           1       0.63      0.22      0.32      1422\n",
      "\n",
      "    accuracy                           0.90     12357\n",
      "   macro avg       0.77      0.60      0.63     12357\n",
      "weighted avg       0.87      0.90      0.87     12357\n",
      "\n",
      "\n",
      "Accuracy of the model:  0.8952011005907583\n"
     ]
    }
   ],
   "source": [
    "from sklearn.metrics import confusion_matrix,accuracy_score,classification_report\n",
    "\n",
    "cfm=confusion_matrix(Y_test,Y_pred)\n",
    "print(cfm)\n",
    "\n",
    "print()\n",
    "\n",
    "print(\"classification report:\")\n",
    "print(classification_report(Y_test,Y_pred))\n",
    "\n",
    "print()\n",
    "\n",
    "acc=accuracy_score(Y_test, Y_pred)\n",
    "print(\"Accuracy of the model: \",acc)"
   ]
  },
  {
   "cell_type": "code",
   "execution_count": 22,
   "metadata": {},
   "outputs": [],
   "source": [
    "#AdaBoost\n",
    "\n",
    "from sklearn.ensemble import AdaBoostClassifier\n",
    "from sklearn.tree import DecisionTreeClassifier\n",
    "model_AdaBoost=AdaBoostClassifier(base_estimator=DecisionTreeClassifier(random_state=10),n_estimators=50,random_state=10)\n",
    "model_AdaBoost.fit(X_train,Y_train)\n",
    "Y_pred=model_AdaBoost.predict(X_test)"
   ]
  },
  {
   "cell_type": "code",
   "execution_count": 23,
   "metadata": {
    "scrolled": true
   },
   "outputs": [
    {
     "name": "stdout",
     "output_type": "stream",
     "text": [
      "[[9862 1073]\n",
      " [ 990  432]]\n",
      "\n",
      "classification report:\n",
      "              precision    recall  f1-score   support\n",
      "\n",
      "           0       0.91      0.90      0.91     10935\n",
      "           1       0.29      0.30      0.30      1422\n",
      "\n",
      "    accuracy                           0.83     12357\n",
      "   macro avg       0.60      0.60      0.60     12357\n",
      "weighted avg       0.84      0.83      0.84     12357\n",
      "\n",
      "\n",
      "Accuracy of the model:  0.8330500930646597\n"
     ]
    }
   ],
   "source": [
    "from sklearn.metrics import confusion_matrix,accuracy_score,classification_report\n",
    "\n",
    "cfm=confusion_matrix(Y_test,Y_pred)\n",
    "print(cfm)\n",
    "\n",
    "print()\n",
    "\n",
    "print(\"classification report:\")\n",
    "print(classification_report(Y_test,Y_pred))\n",
    "\n",
    "print()\n",
    "\n",
    "acc=accuracy_score(Y_test, Y_pred)\n",
    "print(\"Accuracy of the model: \",acc)"
   ]
  },
  {
   "cell_type": "code",
   "execution_count": 24,
   "metadata": {},
   "outputs": [],
   "source": [
    "#gradient boost\n",
    "\n",
    "from sklearn.ensemble import GradientBoostingClassifier\n",
    "model=GradientBoostingClassifier(n_estimators=150,random_state=10)\n",
    "model.fit(X_train,Y_train)\n",
    "Y_pred=model.predict(X_test)"
   ]
  },
  {
   "cell_type": "code",
   "execution_count": 25,
   "metadata": {
    "scrolled": true
   },
   "outputs": [
    {
     "name": "stdout",
     "output_type": "stream",
     "text": [
      "[[10786   149]\n",
      " [ 1135   287]]\n",
      "\n",
      "classification report:\n",
      "              precision    recall  f1-score   support\n",
      "\n",
      "           0       0.90      0.99      0.94     10935\n",
      "           1       0.66      0.20      0.31      1422\n",
      "\n",
      "    accuracy                           0.90     12357\n",
      "   macro avg       0.78      0.59      0.63     12357\n",
      "weighted avg       0.88      0.90      0.87     12357\n",
      "\n",
      "\n",
      "Accuracy of the model:  0.896091284292304\n"
     ]
    }
   ],
   "source": [
    "\n",
    "from sklearn.metrics import confusion_matrix,accuracy_score,classification_report\n",
    "\n",
    "cfm=confusion_matrix(Y_test,Y_pred)\n",
    "print(cfm)\n",
    "\n",
    "print()\n",
    "\n",
    "print(\"classification report:\")\n",
    "print(classification_report(Y_test,Y_pred))\n",
    "\n",
    "print()\n",
    "\n",
    "acc=accuracy_score(Y_test, Y_pred)\n",
    "print(\"Accuracy of the model: \",acc)"
   ]
  },
  {
   "cell_type": "code",
   "execution_count": 26,
   "metadata": {},
   "outputs": [],
   "source": [
    "#SVM \n",
    "\n",
    "from sklearn import svm\n",
    "classifier=svm.SVC(kernel=\"rbf\", gamma=0.1, C=50)\n",
    "classifier.fit(X_train,Y_train)\n",
    "Y_pred=classifier.predict(X_test)"
   ]
  },
  {
   "cell_type": "code",
   "execution_count": 27,
   "metadata": {},
   "outputs": [
    {
     "name": "stdout",
     "output_type": "stream",
     "text": [
      "[[10222   713]\n",
      " [ 1046   376]]\n",
      "\n",
      "classification report:\n",
      "              precision    recall  f1-score   support\n",
      "\n",
      "           0       0.91      0.93      0.92     10935\n",
      "           1       0.35      0.26      0.30      1422\n",
      "\n",
      "    accuracy                           0.86     12357\n",
      "   macro avg       0.63      0.60      0.61     12357\n",
      "weighted avg       0.84      0.86      0.85     12357\n",
      "\n",
      "\n",
      "Accuracy of the model:  0.8576515335437404\n"
     ]
    }
   ],
   "source": [
    "from sklearn.metrics import confusion_matrix,accuracy_score,classification_report\n",
    "\n",
    "cfm=confusion_matrix(Y_test,Y_pred)\n",
    "print(cfm)\n",
    "\n",
    "print()\n",
    "\n",
    "print(\"classification report:\")\n",
    "print(classification_report(Y_test,Y_pred))\n",
    "\n",
    "print()\n",
    "\n",
    "acc=accuracy_score(Y_test, Y_pred)\n",
    "print(\"Accuracy of the model: \",acc)"
   ]
  },
  {
   "cell_type": "code",
   "execution_count": 28,
   "metadata": {},
   "outputs": [
    {
     "name": "stderr",
     "output_type": "stream",
     "text": [
      "C:\\Users\\Neeharika\\Anaconda3\\lib\\site-packages\\sklearn\\linear_model\\logistic.py:432: FutureWarning: Default solver will be changed to 'lbfgs' in 0.22. Specify a solver to silence this warning.\n",
      "  FutureWarning)\n"
     ]
    }
   ],
   "source": [
    "#Logistic \n",
    "\n",
    "from sklearn.linear_model import LogisticRegression\n",
    "classifier=LogisticRegression()\n",
    "classifier.fit(X_train,Y_train)\n",
    "Y_pred=classifier.predict(X_test)"
   ]
  },
  {
   "cell_type": "code",
   "execution_count": 29,
   "metadata": {
    "scrolled": true
   },
   "outputs": [
    {
     "name": "stdout",
     "output_type": "stream",
     "text": [
      "[[10809   126]\n",
      " [ 1176   246]]\n",
      "\n",
      "classification report:\n",
      "              precision    recall  f1-score   support\n",
      "\n",
      "           0       0.90      0.99      0.94     10935\n",
      "           1       0.66      0.17      0.27      1422\n",
      "\n",
      "    accuracy                           0.89     12357\n",
      "   macro avg       0.78      0.58      0.61     12357\n",
      "weighted avg       0.87      0.89      0.87     12357\n",
      "\n",
      "\n",
      "Accuracy of the model:  0.894634620053411\n"
     ]
    }
   ],
   "source": [
    "from sklearn.metrics import confusion_matrix,accuracy_score,classification_report\n",
    "\n",
    "cfm=confusion_matrix(Y_test,Y_pred)\n",
    "print(cfm)\n",
    "\n",
    "print()\n",
    "\n",
    "print(\"classification report:\")\n",
    "print(classification_report(Y_test,Y_pred))\n",
    "\n",
    "print()\n",
    "\n",
    "acc=accuracy_score(Y_test, Y_pred)\n",
    "print(\"Accuracy of the model: \",acc)"
   ]
  },
  {
   "cell_type": "code",
   "execution_count": 32,
   "metadata": {},
   "outputs": [
    {
     "name": "stderr",
     "output_type": "stream",
     "text": [
      "C:\\Users\\Neeharika\\Anaconda3\\lib\\site-packages\\sklearn\\linear_model\\logistic.py:432: FutureWarning: Default solver will be changed to 'lbfgs' in 0.22. Specify a solver to silence this warning.\n",
      "  FutureWarning)\n"
     ]
    }
   ],
   "source": [
    "#Ensembled Model \n",
    "\n",
    "from sklearn.linear_model import LogisticRegression\n",
    "from sklearn.tree import DecisionTreeClassifier\n",
    "from sklearn.ensemble import RandomForestClassifier\n",
    "from sklearn.ensemble import GradientBoostingClassifier\n",
    "from sklearn.ensemble import VotingClassifier\n",
    "\n",
    "# create the sub models\n",
    "estimators = []\n",
    "model1 = LogisticRegression()\n",
    "estimators.append(('log', model1))\n",
    "model2 = DecisionTreeClassifier(criterion='gini',min_samples_leaf=5,max_depth=25,random_state=10)\n",
    "estimators.append(('cart', model2))\n",
    "model4=RandomForestClassifier(n_estimators=200,random_state=10)\n",
    "estimators.append(('RandomForest', model4))\n",
    "model5=GradientBoostingClassifier(n_estimators=150,random_state=10)\n",
    "estimators.append(('GradientBoost', model5))\n",
    "\n",
    "# create the ensemble model\n",
    "ensemble = VotingClassifier(estimators)\n",
    "ensemble.fit(X_train,Y_train)\n",
    "Y_pred=ensemble.predict(X_test)"
   ]
  },
  {
   "cell_type": "code",
   "execution_count": 33,
   "metadata": {
    "scrolled": true
   },
   "outputs": [
    {
     "name": "stdout",
     "output_type": "stream",
     "text": [
      "[[10816   119]\n",
      " [ 1162   260]]\n",
      "\n",
      "classification report:\n",
      "              precision    recall  f1-score   support\n",
      "\n",
      "           0       0.90      0.99      0.94     10935\n",
      "           1       0.69      0.18      0.29      1422\n",
      "\n",
      "    accuracy                           0.90     12357\n",
      "   macro avg       0.79      0.59      0.62     12357\n",
      "weighted avg       0.88      0.90      0.87     12357\n",
      "\n",
      "\n",
      "Accuracy of the model:  0.8963340616654528\n"
     ]
    }
   ],
   "source": [
    "from sklearn.metrics import confusion_matrix,accuracy_score,classification_report\n",
    "\n",
    "cfm=confusion_matrix(Y_test,Y_pred)\n",
    "print(cfm)\n",
    "\n",
    "print()\n",
    "\n",
    "print(\"classification report:\")\n",
    "print(classification_report(Y_test,Y_pred))\n",
    "\n",
    "print()\n",
    "\n",
    "acc=accuracy_score(Y_test, Y_pred)\n",
    "print(\"Accuracy of the model: \",acc)"
   ]
  },
  {
   "cell_type": "code",
   "execution_count": null,
   "metadata": {},
   "outputs": [],
   "source": [
    "'''Over all we see that Gradient Boost classifier is better in terms of f1 score and type2 error though accuracy is more for ensemled model'''"
   ]
  }
 ],
 "metadata": {
  "kernelspec": {
   "display_name": "Python 3",
   "language": "python",
   "name": "python3"
  },
  "language_info": {
   "codemirror_mode": {
    "name": "ipython",
    "version": 3
   },
   "file_extension": ".py",
   "mimetype": "text/x-python",
   "name": "python",
   "nbconvert_exporter": "python",
   "pygments_lexer": "ipython3",
   "version": "3.7.4"
  }
 },
 "nbformat": 4,
 "nbformat_minor": 2
}
